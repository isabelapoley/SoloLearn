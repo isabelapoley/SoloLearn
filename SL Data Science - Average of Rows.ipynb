{
 "cells": [
  {
   "cell_type": "markdown",
   "metadata": {},
   "source": [
    "In a matrix, or 2-d array X, the averages (or means) of the elements of rows is called row means.  \n",
    "\n",
    "Task:\n",
    "Given a 2D array, return the rowmeans.\n",
    "\n",
    "Input Format:\n",
    "First line: two integers separated by spaces, the first indicates the rows of matrix X (n) and the second indicates the columns of X (p)\n",
    "Next n lines: values of the row in X\n",
    "\n",
    "Output Format:\n",
    "An numpy 1d array of values rounded to the second decimal.\n",
    "\n",
    "Sample Input:\n",
    "2 2\n",
    "1.5 1\n",
    "2 2.9\n",
    "\n",
    "Sample Output: \n",
    "[1.25 2.45]\n",
    "\n",
    "Explanation:\n",
    "The first row has two numbers 1.5 and 1, thus the sum is 1.5 + 1 = 2.5 and the mean is then 2.5/2 = 1.25. Then for the second row, the average is calculated as (2 + 2.9)/2 = 4.9/2 = 2.45."
   ]
  },
  {
   "cell_type": "code",
   "execution_count": 1,
   "metadata": {},
   "outputs": [
    {
     "name": "stdout",
     "output_type": "stream",
     "text": [
      "2 2\n",
      "1.5 1\n",
      "2 2.9\n",
      "[1.25 2.45]\n"
     ]
    }
   ],
   "source": [
    "import numpy as np\n",
    "n, p = [int(x) for x in input().split()]\n",
    "twoD = np.array([])\n",
    "media = []\n",
    "row_list = []\n",
    "for i in range(n):\n",
    "    num = [float(m) for m in input().split()]\n",
    "    row_list.append(num)\n",
    "    for j in range(p):\n",
    "        twoD = np.vstack(row_list)\n",
    "media = np.mean(twoD,axis=1)\n",
    "answer = np.around(media,2)\n",
    "print(answer)"
   ]
  }
 ],
 "metadata": {
  "kernelspec": {
   "display_name": "Python 3",
   "language": "python",
   "name": "python3"
  },
  "language_info": {
   "codemirror_mode": {
    "name": "ipython",
    "version": 3
   },
   "file_extension": ".py",
   "mimetype": "text/x-python",
   "name": "python",
   "nbconvert_exporter": "python",
   "pygments_lexer": "ipython3",
   "version": "3.6.5"
  }
 },
 "nbformat": 4,
 "nbformat_minor": 2
}
