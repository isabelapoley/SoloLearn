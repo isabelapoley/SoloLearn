{
 "cells": [
  {
   "cell_type": "markdown",
   "metadata": {},
   "source": [
    "If you live in Neverland, you never get any older! You and your twin go to Neverland for an afternoon, then your twin goes back home and you stay. Over time, how much older is your twin than you, and how old are they?\n",
    "\n",
    "Task: \n",
    "Evaluate the difference between your ages, and the age that your twin is now if you are given the age that you were when you got to Neverland, and the time that has elapsed since then.\n",
    "\n",
    "Input Format: \n",
    "Two integer values. The first represents your age when you arrived at Neverland, and the second, the number of years that have passed since your twin went back.\n",
    "\n",
    "Output Format: \n",
    "A string that states 'My twin is X years old and they are Y years older than me' Where X is their age and Y is the difference. \n",
    "\n",
    "Sample Input: \n",
    "10 \n",
    "8\n",
    "\n",
    "Sample Output: \n",
    "My twin is 18 years old and they are 8 years older than me\n",
    "\n",
    "Explanation: \n",
    "Your twin got 8 years older over the last 8 years while you stayed the same age the whole time."
   ]
  },
  {
   "cell_type": "code",
   "execution_count": 1,
   "metadata": {},
   "outputs": [
    {
     "name": "stdout",
     "output_type": "stream",
     "text": [
      "10\n",
      "8\n",
      "My twin is 18 years old and they are 8 years older than me\n"
     ]
    }
   ],
   "source": [
    "initial_age = int(input())\n",
    "years = int(input())\n",
    "age_now = initial_age + years \n",
    "print(('My twin is {} years old and they are {} years older than me'.format(age_now,years)))"
   ]
  }
 ],
 "metadata": {
  "kernelspec": {
   "display_name": "Python 3",
   "language": "python",
   "name": "python3"
  },
  "language_info": {
   "codemirror_mode": {
    "name": "ipython",
    "version": 3
   },
   "file_extension": ".py",
   "mimetype": "text/x-python",
   "name": "python",
   "nbconvert_exporter": "python",
   "pygments_lexer": "ipython3",
   "version": "3.6.5"
  }
 },
 "nbformat": 4,
 "nbformat_minor": 2
}
