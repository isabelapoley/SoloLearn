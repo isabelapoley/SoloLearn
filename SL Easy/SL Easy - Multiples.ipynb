{
 "cells": [
  {
   "cell_type": "markdown",
   "metadata": {},
   "source": [
    "You need to calculate the sum of all the multiples of 3 or 5 below a given number.\n",
    "\n",
    "Task: \n",
    "Given an integer number, output the sum of all the multiples of 3 and 5 below that number. \n",
    "If a number is a multiple of both, 3 and 5, it should appear in the sum only once.\n",
    "\n",
    "Input Format: \n",
    "An integer.\n",
    "\n",
    "Output Format: \n",
    "An integer, representing the sum of all the multiples of 3 and 5 below the given input.\n",
    "\n",
    "Sample Input: \n",
    "10\n",
    "\n",
    "Sample Output:\n",
    "23\n",
    "\n",
    "Explanation: \n",
    "The numbers below 10 that are multiples of 3 or 5 are 3, 5, 6 and 9.\n",
    "The sum of these numbers is 3+5+6+9=23"
   ]
  },
  {
   "cell_type": "code",
   "execution_count": 1,
   "metadata": {},
   "outputs": [
    {
     "name": "stdout",
     "output_type": "stream",
     "text": [
      "10\n",
      "23\n"
     ]
    }
   ],
   "source": [
    "n = int(input())\n",
    "sum = 0\n",
    "for i in range(n):\n",
    "    if (i % 3 == 0) or (i % 5 == 0):\n",
    "        sum = sum + i\n",
    "print(sum)"
   ]
  }
 ],
 "metadata": {
  "kernelspec": {
   "display_name": "Python 3",
   "language": "python",
   "name": "python3"
  },
  "language_info": {
   "codemirror_mode": {
    "name": "ipython",
    "version": 3
   },
   "file_extension": ".py",
   "mimetype": "text/x-python",
   "name": "python",
   "nbconvert_exporter": "python",
   "pygments_lexer": "ipython3",
   "version": "3.6.5"
  }
 },
 "nbformat": 4,
 "nbformat_minor": 2
}
