{
 "cells": [
  {
   "cell_type": "markdown",
   "metadata": {},
   "source": [
    "You are on a large ship and you put down anchor near a beautiful beach. There is a small boat ferrying passengers back and forth, and you get in line for it. How long will you have to wait to get to the beach? You know that 20 people can fit on the boat and each trip to shore takes 10 minutes each way.\n",
    "\n",
    "Task: \n",
    "Determine your wait time if you know the total number of people ahead of you in line.  \n",
    "\n",
    "Input Format: \n",
    "An integer that represents the total number of people ahead of you in line.\n",
    "\n",
    "Output Format: \n",
    "An integer that represents the number of minutes that you will have to wait until you are standing on the beach.\n",
    "\n",
    "Sample Input: \n",
    "15\n",
    "\n",
    "Sample Output: \n",
    "10\n",
    "\n",
    "Explanation: \n",
    "You can get on the boat right away if you are the 16th person in line, it takes 10 minutes on the boat to get to the beach."
   ]
  },
  {
   "cell_type": "code",
   "execution_count": 1,
   "metadata": {},
   "outputs": [
    {
     "name": "stdout",
     "output_type": "stream",
     "text": [
      "15\n",
      "10\n"
     ]
    }
   ],
   "source": [
    "people = int(input())\n",
    "trips = people // 20\n",
    "time = trips*20 + 10\n",
    "print(time)"
   ]
  }
 ],
 "metadata": {
  "kernelspec": {
   "display_name": "Python 3",
   "language": "python",
   "name": "python3"
  },
  "language_info": {
   "codemirror_mode": {
    "name": "ipython",
    "version": 3
   },
   "file_extension": ".py",
   "mimetype": "text/x-python",
   "name": "python",
   "nbconvert_exporter": "python",
   "pygments_lexer": "ipython3",
   "version": "3.6.5"
  }
 },
 "nbformat": 4,
 "nbformat_minor": 2
}
