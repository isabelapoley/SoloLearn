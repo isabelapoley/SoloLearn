{
 "cells": [
  {
   "cell_type": "markdown",
   "metadata": {},
   "source": [
    "It is almost Hanukkah and the store in your town is completely out of candles! You decide to place an order online, and you talk to your friends to see who else needs candles. How many candles should you order in total for the holiday? \n",
    "\n",
    "Task: \n",
    "Determine how many candles you need to order based on how many friends ask to join your order (each friend will need 9 candles).\n",
    "\n",
    "Input Format: \n",
    "An integer that represents the number of friends that ask to order candles with you.\n",
    "\n",
    "Output Format: \n",
    "An integer that represents the total number of candles that you need to order.\n",
    "\n",
    "Sample Input: \n",
    "4\n",
    "\n",
    "Sample Output: \n",
    "45\n",
    "\n",
    "Explanation: \n",
    "If four of your friends ask you to order their candles for them, you will need 9 for each of them, and 9 for yourself. That's 45."
   ]
  },
  {
   "cell_type": "code",
   "execution_count": 1,
   "metadata": {},
   "outputs": [
    {
     "name": "stdout",
     "output_type": "stream",
     "text": [
      "4\n",
      "45\n"
     ]
    }
   ],
   "source": [
    "friendsnumber = input()\n",
    "candlesnumber = int(friendsnumber)*9 + 9\n",
    "print(candlesnumber)"
   ]
  }
 ],
 "metadata": {
  "kernelspec": {
   "display_name": "Python 3",
   "language": "python",
   "name": "python3"
  },
  "language_info": {
   "codemirror_mode": {
    "name": "ipython",
    "version": 3
   },
   "file_extension": ".py",
   "mimetype": "text/x-python",
   "name": "python",
   "nbconvert_exporter": "python",
   "pygments_lexer": "ipython3",
   "version": "3.6.5"
  }
 },
 "nbformat": 4,
 "nbformat_minor": 2
}
