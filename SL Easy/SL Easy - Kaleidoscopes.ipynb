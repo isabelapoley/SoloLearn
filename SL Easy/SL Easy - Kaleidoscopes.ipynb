{
 "cells": [
  {
   "cell_type": "markdown",
   "metadata": {},
   "source": [
    "You sell souvenir kaleidoscopes at a gift shop, and if a customer buys more than one, they get a 10% discount on all of them!\n",
    "Given the total number of kaleidoscopes that a customer buys, let them know what their total will be. Tax is 7%. All of your kaleidoscopes cost the same amount, 5.00.\n",
    "\n",
    "Task: \n",
    "Take the number of kaleidoscopes that a customer buys and output their total cost including tax and any discounts.\n",
    "\n",
    "Input Format: \n",
    "An integer value that represents the number of kaleidoscopes that a customer orders.\n",
    "\n",
    "Output Format: \n",
    "A number that represents the total purchase price to two decimal places.\n",
    "\n",
    "Sample Input: \n",
    "4\n",
    "\n",
    "Sample Output: \n",
    "19.26\n",
    "\n",
    "Explanation: \n",
    "A purchase of 4 kaleidoscopes would give the customer a 10% discount, then with tax the total is 19.26."
   ]
  },
  {
   "cell_type": "code",
   "execution_count": 1,
   "metadata": {},
   "outputs": [
    {
     "name": "stdout",
     "output_type": "stream",
     "text": [
      "4\n",
      "19.26\n"
     ]
    }
   ],
   "source": [
    "kaleidoscopes = int(input())\n",
    "if kaleidoscopes == 1:\n",
    "    price = 5*1.07\n",
    "else:\n",
    "    price = kaleidoscopes*5*0.9*1.07\n",
    "print(round(price,2))"
   ]
  }
 ],
 "metadata": {
  "kernelspec": {
   "display_name": "Python 3",
   "language": "python",
   "name": "python3"
  },
  "language_info": {
   "codemirror_mode": {
    "name": "ipython",
    "version": 3
   },
   "file_extension": ".py",
   "mimetype": "text/x-python",
   "name": "python",
   "nbconvert_exporter": "python",
   "pygments_lexer": "ipython3",
   "version": "3.6.5"
  }
 },
 "nbformat": 4,
 "nbformat_minor": 2
}
