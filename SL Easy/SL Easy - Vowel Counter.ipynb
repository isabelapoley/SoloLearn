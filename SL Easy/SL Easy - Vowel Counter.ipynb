{
 "cells": [
  {
   "cell_type": "markdown",
   "metadata": {},
   "source": [
    "You are in an English class, your teacher tells the class that vowels are the glue that hold words and sentences together. \n",
    "They want to make sure you understand the importance of vowels in a sentence.  \n",
    "You are given example sentences and are to give a total amount of vowels that are in each sentence.\n",
    "\n",
    "Task: \n",
    "Write a program that takes in a string as input, counts and outputs the number of vowels (A, E, I, O, U).\n",
    "\n",
    "Input Format: \n",
    "A string (letters can be both uppercase or lower case).\n",
    "\n",
    "Output Format: \n",
    "A number which represents the total number of vowels in the string.\n",
    "\n",
    "Sample Input: \n",
    "this is a sentence\n",
    "\n",
    "Sample Output: \n",
    "6\n",
    "\n",
    "Explanation:  \n",
    "There are 6 vowels in the sentence: this is a sentence."
   ]
  },
  {
   "cell_type": "code",
   "execution_count": 1,
   "metadata": {},
   "outputs": [
    {
     "name": "stdout",
     "output_type": "stream",
     "text": [
      "this is a sentence\n",
      "6\n"
     ]
    }
   ],
   "source": [
    "word = input()\n",
    "count = 0\n",
    "vogals = ['a','e','i','o','u','A','E','I','O','U']\n",
    "for i in word:\n",
    "    if i in vogals:\n",
    "        count+=1\n",
    "print(count)"
   ]
  }
 ],
 "metadata": {
  "kernelspec": {
   "display_name": "Python 3",
   "language": "python",
   "name": "python3"
  },
  "language_info": {
   "codemirror_mode": {
    "name": "ipython",
    "version": 3
   },
   "file_extension": ".py",
   "mimetype": "text/x-python",
   "name": "python",
   "nbconvert_exporter": "python",
   "pygments_lexer": "ipython3",
   "version": "3.6.5"
  }
 },
 "nbformat": 4,
 "nbformat_minor": 2
}
