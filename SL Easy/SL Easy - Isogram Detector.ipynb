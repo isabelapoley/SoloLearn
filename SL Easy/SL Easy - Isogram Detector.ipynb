{
 "cells": [
  {
   "cell_type": "markdown",
   "metadata": {},
   "source": [
    "An isogram is a word that has no repeating letters, whether they are consecutive or non-consecutive.  \n",
    "Your job is to find a way to detect if a word is an isogram.\n",
    "\n",
    "Task: Write a program that takes in a string as input, detects if the string is an isogram and outputs true or false based on the result.\n",
    " \n",
    "Input Format: \n",
    "A string containing one word.\n",
    "\n",
    "Output Format: \n",
    "A string: true or false.\n",
    "\n",
    "Sample Input: \n",
    "turbulence\n",
    "\n",
    "Sample Output: \n",
    "false\n",
    "\n",
    "Explanation: \n",
    "The word turbulence has multiple \"u\" and \"e\" in it, which would mean it is not an isogram."
   ]
  },
  {
   "cell_type": "code",
   "execution_count": 1,
   "metadata": {},
   "outputs": [
    {
     "name": "stdout",
     "output_type": "stream",
     "text": [
      "turbulence\n",
      "false\n"
     ]
    }
   ],
   "source": [
    "def isogram(string):\n",
    "    if string is None:\n",
    "        print('false')\n",
    "    else:\n",
    "        chars_set = set()\n",
    "        for char in string:\n",
    "            if char in chars_set:\n",
    "                print('false')\n",
    "                return  \n",
    "            else:\n",
    "                chars_set.add(char)\n",
    "        print('true')\n",
    "\n",
    "isogram(input())"
   ]
  }
 ],
 "metadata": {
  "kernelspec": {
   "display_name": "Python 3",
   "language": "python",
   "name": "python3"
  },
  "language_info": {
   "codemirror_mode": {
    "name": "ipython",
    "version": 3
   },
   "file_extension": ".py",
   "mimetype": "text/x-python",
   "name": "python",
   "nbconvert_exporter": "python",
   "pygments_lexer": "ipython3",
   "version": "3.6.5"
  }
 },
 "nbformat": 4,
 "nbformat_minor": 2
}
