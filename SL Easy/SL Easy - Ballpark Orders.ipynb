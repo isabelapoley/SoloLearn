{
 "cells": [
  {
   "cell_type": "markdown",
   "metadata": {},
   "source": [
    "You and three friends go to a baseball game and you offer to go to the concession stand for everyone. They each order one thing, and you do as well. Nachos and Pizza both cost $6.00. A Cheeseburger meal costs $10. Water is $4.00 and Coke is $5.00. Tax is 7%.\n",
    "\n",
    "Task \n",
    "Determine the total cost of ordering four items from the concession stand. If one of your friend’s orders something that isn't on the menu, you will order a Coke for them instead.\n",
    "\n",
    "Input Format\n",
    "You are given a string of the four items that you've been asked to order that are separated by spaces.\n",
    "\n",
    "Output Format \n",
    "You will output a number of the total cost of the food and drinks.\n",
    "\n",
    "Sample Input \n",
    "'Pizza Cheeseburger Water Popcorn'\n",
    "\n",
    "Sample Output \n",
    "26.75\n",
    "\n",
    "Explanation\n",
    "Because Popcorn is not on the menu, this friend gets a coke which brings the subtotal to $25.00 and $26.75 with tax."
   ]
  },
  {
   "cell_type": "code",
   "execution_count": 1,
   "metadata": {},
   "outputs": [
    {
     "name": "stdout",
     "output_type": "stream",
     "text": [
      "Pizza Cheeseburger Water Popcorn\n",
      "26.75\n"
     ]
    }
   ],
   "source": [
    "orders = input()\n",
    "things = orders.split()\n",
    "totalcost = 0\n",
    "for t in things:\n",
    "    if t == 'Cheeseburger':\n",
    "        totalcost = totalcost + 10\n",
    "    elif t == 'Water':\n",
    "        totalcost = totalcost + 4\n",
    "    elif t == 'Coke':\n",
    "        totalcost = totalcost + 5\n",
    "    elif t == 'Pizza':\n",
    "        totalcost = totalcost + 6\n",
    "    elif t == 'Nachos':\n",
    "        totalcost = totalcost + 6\n",
    "    else:\n",
    "        totalcost = totalcost + 5\n",
    "price = totalcost * 1.07\n",
    "print(round(price,2))"
   ]
  }
 ],
 "metadata": {
  "kernelspec": {
   "display_name": "Python 3",
   "language": "python",
   "name": "python3"
  },
  "language_info": {
   "codemirror_mode": {
    "name": "ipython",
    "version": 3
   },
   "file_extension": ".py",
   "mimetype": "text/x-python",
   "name": "python",
   "nbconvert_exporter": "python",
   "pygments_lexer": "ipython3",
   "version": "3.6.5"
  }
 },
 "nbformat": 4,
 "nbformat_minor": 2
}
