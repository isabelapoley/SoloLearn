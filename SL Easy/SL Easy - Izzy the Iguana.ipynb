{
 "cells": [
  {
   "cell_type": "markdown",
   "metadata": {},
   "source": [
    "Your pet iguana has run away, and you found it up in a tree! It will come down right away if you brought the right snacks, but if you don't have enough, you will have to wait. You need 10 total snack points to bring it down. Lettuce is worth 5, Carrot is worth 4, Mango is worth 9, and Cheeseburger is worth 0.\n",
    "\n",
    "Task: \n",
    "Evaluate whether or not you have enough snack points to convince your iguana to come down.\n",
    "\n",
    "Input Format: \n",
    "Your input is a string that represents the snacks that you have. Snacks are separated by spaces, you can have any number of snacks, and they can repeat.\n",
    "\n",
    "Output Format: \n",
    "A string that says 'Come on Down!' if you have enough points, or 'Time to wait' if you do not. \n",
    "\n",
    "Sample Input: \n",
    "Mango Cheeseburger Carrot\n",
    "\n",
    "Sample Output:\n",
    "Come on Down!\n",
    "\n",
    "Explanation: \n",
    "You have 13 snack points with a mango, cheeseburger, and carrot, which is enough to convince the iguana to come down."
   ]
  },
  {
   "cell_type": "code",
   "execution_count": null,
   "metadata": {},
   "outputs": [],
   "source": [
    "food = input()\n",
    "snacks = food.split()\n",
    "snackpoint = 0\n",
    "for snack in snacks:\n",
    "    if snack == 'Lettuce':\n",
    "        snackpoint = snackpoint + 5\n",
    "    elif snack == 'Carrot':\n",
    "        snackpoint = snackpoint + 4\n",
    "    elif snack == 'Mango':\n",
    "        snackpoint = snackpoint + 9\n",
    "    elif snack == 'Cheeseburger':\n",
    "        snackpoint = snackpoint + 0\n",
    "if snackpoint >= 10:\n",
    "    print('Come on Down!')\n",
    "else: \n",
    "    print('Time to wait')"
   ]
  }
 ],
 "metadata": {
  "kernelspec": {
   "display_name": "Python 3",
   "language": "python",
   "name": "python3"
  },
  "language_info": {
   "codemirror_mode": {
    "name": "ipython",
    "version": 3
   },
   "file_extension": ".py",
   "mimetype": "text/x-python",
   "name": "python",
   "nbconvert_exporter": "python",
   "pygments_lexer": "ipython3",
   "version": "3.6.5"
  }
 },
 "nbformat": 4,
 "nbformat_minor": 2
}
