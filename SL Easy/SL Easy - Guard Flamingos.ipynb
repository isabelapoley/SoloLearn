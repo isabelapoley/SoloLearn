{
 "cells": [
  {
   "cell_type": "markdown",
   "metadata": {},
   "source": [
    "You decide to add a pink flamingo lawn ornament every 2 feet around the perimeter of your yard. How many flamingos do you need to purchase?\n",
    "\n",
    "Task: \n",
    "Given the length and width of your rectangular yard, determine how many flamingos your should buy to put one every 2 feet along the edges of your yard.\n",
    "\n",
    "Input Format: \n",
    "Two integer values that represent the length and width of your front yard.\n",
    "\n",
    "Output Format: \n",
    "An integer that represents the total number of flamingos that you should purchase.\n",
    "\n",
    "Sample Input: \n",
    "10\n",
    "10\n",
    "\n",
    "Sample Output: \n",
    "20\n",
    "\n",
    "Explanation: \n",
    "The perimeter of your yard is 40 feet long. You will need 20 flamingos to place one every 2 feet."
   ]
  },
  {
   "cell_type": "code",
   "execution_count": 1,
   "metadata": {},
   "outputs": [
    {
     "name": "stdout",
     "output_type": "stream",
     "text": [
      "10\n",
      "10\n",
      "20\n"
     ]
    }
   ],
   "source": [
    "lenght = int(input())\n",
    "width = int(input())\n",
    "perimeter = 2*(lenght + width)\n",
    "flamingos = perimeter / 2\n",
    "print(int(flamingos))"
   ]
  }
 ],
 "metadata": {
  "kernelspec": {
   "display_name": "Python 3",
   "language": "python",
   "name": "python3"
  },
  "language_info": {
   "codemirror_mode": {
    "name": "ipython",
    "version": 3
   },
   "file_extension": ".py",
   "mimetype": "text/x-python",
   "name": "python",
   "nbconvert_exporter": "python",
   "pygments_lexer": "ipython3",
   "version": "3.6.5"
  }
 },
 "nbformat": 4,
 "nbformat_minor": 2
}
