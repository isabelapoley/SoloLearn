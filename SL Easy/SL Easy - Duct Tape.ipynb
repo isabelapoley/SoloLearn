{
 "cells": [
  {
   "cell_type": "markdown",
   "metadata": {},
   "source": [
    "You want to completely cover a flat door on both sides with duct tape. You need to know how many rolls of duct tape to buy when you go to the store.\n",
    "\n",
    "Task: \n",
    "Given the height and width of the door, determine how many rolls of duct tape you will need (a roll of duct tape is 60 feet long and 2 inches wide and there are 12 inches in each foot). Don't forget both sides of the door!\n",
    "\n",
    "Input Format: \n",
    "Two integers that represent the height and width of the door.\n",
    "\n",
    "Output Format: \n",
    "An integer that represents the total rolls of duct tape that you need to buy.\n",
    "\n",
    "Sample Input: \n",
    "7\n",
    "4\n",
    "\n",
    "Sample Output: \n",
    "6\n",
    "\n",
    "Explanation:\n",
    "You will need 6 rolls of duct tape to cover both sides of a 7ft x 4ft door."
   ]
  },
  {
   "cell_type": "code",
   "execution_count": 1,
   "metadata": {},
   "outputs": [
    {
     "name": "stdout",
     "output_type": "stream",
     "text": [
      "7\n",
      "4\n",
      "6\n"
     ]
    }
   ],
   "source": [
    "import math\n",
    "height = int(input())\n",
    "width = int(input())\n",
    "doorarea = 2*12*height*12*width\n",
    "tapearea = 60*12*2\n",
    "howmany = doorarea / tapearea\n",
    "print(math.ceil(howmany))"
   ]
  }
 ],
 "metadata": {
  "kernelspec": {
   "display_name": "Python 3",
   "language": "python",
   "name": "python3"
  },
  "language_info": {
   "codemirror_mode": {
    "name": "ipython",
    "version": 3
   },
   "file_extension": ".py",
   "mimetype": "text/x-python",
   "name": "python",
   "nbconvert_exporter": "python",
   "pygments_lexer": "ipython3",
   "version": "3.6.5"
  }
 },
 "nbformat": 4,
 "nbformat_minor": 2
}
