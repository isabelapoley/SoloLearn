{
 "cells": [
  {
   "cell_type": "markdown",
   "metadata": {},
   "source": [
    "You go hunting for Easter eggs with a friend. You think that you have found all of the eggs, but you want to make sure that you don't leave any behind! Compare Easter baskets with your friend to decide if you should keep hunting.\n",
    "\n",
    "Task: \n",
    "If you know the total number of eggs that were hidden and the amount in both of your baskets. Evaluate whether it is time to eat candy or keep hunting for more eggs.\n",
    "\n",
    "Input Format: \n",
    "Three integer values. The first represents the total number of eggs, the second, the amount in your basket, and lastly the amount that your friend has found.\n",
    "\n",
    "Output Format: \n",
    "A string that says 'Keep Hunting' if there are still eggs out there or 'Candy Time' if you found all the eggs.\n",
    "\n",
    "Sample Input:\n",
    "100\n",
    "40\n",
    "60\n",
    "\n",
    "Sample Output: \n",
    "Candy Time\n",
    "\n",
    "Explanation: \n",
    "If you have 40 eggs and your friend has 60, you have found all of the eggs (100) and can enjoy them."
   ]
  },
  {
   "cell_type": "code",
   "execution_count": 1,
   "metadata": {},
   "outputs": [
    {
     "name": "stdout",
     "output_type": "stream",
     "text": [
      "100\n",
      "40\n",
      "60\n",
      "Candy Time\n"
     ]
    }
   ],
   "source": [
    "totaleggs = int(input())\n",
    "myeggs = int(input())\n",
    "friendseggs = int(input())\n",
    "if myeggs + friendseggs < totaleggs: \n",
    "    print('Keep Hunting')\n",
    "else:\n",
    "    print('Candy Time')"
   ]
  }
 ],
 "metadata": {
  "kernelspec": {
   "display_name": "Python 3",
   "language": "python",
   "name": "python3"
  },
  "language_info": {
   "codemirror_mode": {
    "name": "ipython",
    "version": 3
   },
   "file_extension": ".py",
   "mimetype": "text/x-python",
   "name": "python",
   "nbconvert_exporter": "python",
   "pygments_lexer": "ipython3",
   "version": "3.6.5"
  }
 },
 "nbformat": 4,
 "nbformat_minor": 2
}
