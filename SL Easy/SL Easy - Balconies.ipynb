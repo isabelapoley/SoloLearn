{
 "cells": [
  {
   "cell_type": "markdown",
   "metadata": {},
   "source": [
    "You are trying to determine which of two apartments has a larger balcony. Both balconies are rectangles, and you have the length and width, but you need the area.\n",
    "\n",
    "Task: \n",
    "Evaluate the area of two different balconies and determine which one is bigger.\n",
    "\n",
    "Input Format: \n",
    "Your inputs are two strings where the measurements for height and width are separated by a comma. The first one represents apartment A, the second represents apartment B.\n",
    "\n",
    "Output Format: \n",
    "A string that says whether apartment A or apartment B has a larger balcony.\n",
    "\n",
    "Sample Input: \n",
    "'5,5'\n",
    "'2,10'\n",
    "\n",
    "Sample Output: \n",
    "Apartment A\n",
    "\n",
    "Explanation: \n",
    "Since the area of apartment A's balcony is 25 and the area of apartment B's balcony is 20, Apartment A is the correct answer."
   ]
  },
  {
   "cell_type": "code",
   "execution_count": 1,
   "metadata": {},
   "outputs": [
    {
     "name": "stdout",
     "output_type": "stream",
     "text": [
      "5,5\n",
      "2,10\n",
      "Apartment A\n"
     ]
    }
   ],
   "source": [
    "a_height,a_width = [float(a) for a in input().split(',')]\n",
    "b_height,b_width = [float(b) for b in input().split(',')]\n",
    "a_area = a_height * a_width \n",
    "b_area = b_height * b_width \n",
    "if a_area > b_area:\n",
    "    print('Apartment A')\n",
    "elif a_area < b_area:\n",
    "    print('Apartment B')\n",
    "else:\n",
    "    print('Same size')"
   ]
  }
 ],
 "metadata": {
  "kernelspec": {
   "display_name": "Python 3",
   "language": "python",
   "name": "python3"
  },
  "language_info": {
   "codemirror_mode": {
    "name": "ipython",
    "version": 3
   },
   "file_extension": ".py",
   "mimetype": "text/x-python",
   "name": "python",
   "nbconvert_exporter": "python",
   "pygments_lexer": "ipython3",
   "version": "3.6.5"
  }
 },
 "nbformat": 4,
 "nbformat_minor": 2
}
