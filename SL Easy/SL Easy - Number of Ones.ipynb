{
 "cells": [
  {
   "cell_type": "markdown",
   "metadata": {},
   "source": [
    "Task:\n",
    "Count the number of ones in the binary representation of a given integer.\n",
    "\n",
    "Input Format:\n",
    "An integer.\n",
    "\n",
    "Output Format: \n",
    "An integer representing the count of ones in the binary representation of the input.\n",
    "\n",
    "Sample Input:\n",
    "9\n",
    "\n",
    "Sample Output:\n",
    "2\n",
    "\n",
    "Explanation: \n",
    "The binary representation of 9 is 1001, which includes 2 ones."
   ]
  },
  {
   "cell_type": "code",
   "execution_count": 1,
   "metadata": {},
   "outputs": [
    {
     "name": "stdout",
     "output_type": "stream",
     "text": [
      "9\n",
      "2\n"
     ]
    }
   ],
   "source": [
    "number = int(input())\n",
    "binary = bin(number)\n",
    "string = str(binary)\n",
    "print(string.count('1'))"
   ]
  }
 ],
 "metadata": {
  "kernelspec": {
   "display_name": "Python 3",
   "language": "python",
   "name": "python3"
  },
  "language_info": {
   "codemirror_mode": {
    "name": "ipython",
    "version": 3
   },
   "file_extension": ".py",
   "mimetype": "text/x-python",
   "name": "python",
   "nbconvert_exporter": "python",
   "pygments_lexer": "ipython3",
   "version": "3.6.5"
  }
 },
 "nbformat": 4,
 "nbformat_minor": 2
}
