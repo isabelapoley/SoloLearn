{
 "cells": [
  {
   "cell_type": "markdown",
   "metadata": {},
   "source": [
    "As headmaster of the post office, sometimes people write zip codes that don't exist or zip codes that are not valid.  \n",
    "You are tasked with making a system to check if the inputted zip code is a valid zip code. \n",
    "\n",
    "Task:\n",
    "Write a program that takes in a string representing a zip code. Output true or false if it is a valid zip code or not. \n",
    "A valid zip code is only numbers, must be 5 characters in length, and contain no spaces.\n",
    "\n",
    "Input Format: \n",
    "A string containing a zip code.\n",
    "\n",
    "Output Format: \n",
    "A string: true is the input is a valid zip code, or false, if it is not. \n",
    "\n",
    "Sample Input: \n",
    "752f78\n",
    "\n",
    "Sample Output: \n",
    "false\n",
    "\n",
    "Explanation: \n",
    "A valid zip code contains 5 digits, and no letters or spaces. The input is 6 characters long and contains letters, making it an invalid zip code."
   ]
  },
  {
   "cell_type": "code",
   "execution_count": 1,
   "metadata": {},
   "outputs": [
    {
     "name": "stdout",
     "output_type": "stream",
     "text": [
      "752f78\n",
      "false\n"
     ]
    }
   ],
   "source": [
    "zipcode = input()\n",
    "l = len(str(zipcode))\n",
    "if l == 5 and zipcode[0:4].isdigit:\n",
    "    print('true')\n",
    "else:\n",
    "    print('false')"
   ]
  }
 ],
 "metadata": {
  "kernelspec": {
   "display_name": "Python 3",
   "language": "python",
   "name": "python3"
  },
  "language_info": {
   "codemirror_mode": {
    "name": "ipython",
    "version": 3
   },
   "file_extension": ".py",
   "mimetype": "text/x-python",
   "name": "python",
   "nbconvert_exporter": "python",
   "pygments_lexer": "ipython3",
   "version": "3.6.5"
  }
 },
 "nbformat": 4,
 "nbformat_minor": 2
}
