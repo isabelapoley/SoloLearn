{
 "cells": [
  {
   "cell_type": "markdown",
   "metadata": {},
   "source": [
    "Calculating Evaluation Metrics using the Confusion Matrix.\n",
    "\n",
    "Task:\n",
    "You will be given the values of the confusion matrix (true positives, false positives, false negatives, and true negatives). Your job is to compute the accuracy, precision, recall and f1 score and print the values rounded to 4 decimal places. To round, you can use round(x, 4).\n",
    "\n",
    "Input Format:\n",
    "The values of tp, fp, fn, tn, in that order separated by spaces\n",
    "\n",
    "Output Format:\n",
    "Each value on its own line, rounded to 4 decimal places, in this order:\n",
    "accuracy, precision, recall, f1 score\n",
    "\n",
    "Sample Input:\n",
    "233 65 109 480\n",
    "\n",
    "Sample Output:\n",
    "0.8038\n",
    "0.7819\n",
    "0.6813\n",
    "0.7281\n",
    "\n",
    "Explanation:\n",
    "Accuracy is (tp + tn) / total = (233+480)/(233+65+109+480)=0.8038\n",
    "Precision is tp / (tp + fp) = 233/(233+65) = 0.7819\n",
    "Recall is tp / (tp + fn) = 233/(233+109) = 0.6813\n",
    "F1 score is 2 * precision * recall / (precision + recall) = 2*0.7819*0.6813/(0.7819+0.6813) = 0.7281"
   ]
  },
  {
   "cell_type": "code",
   "execution_count": 1,
   "metadata": {},
   "outputs": [
    {
     "name": "stdout",
     "output_type": "stream",
     "text": [
      "233 65 109 480\n",
      "0.8038\n",
      "0.7819\n",
      "0.6813\n",
      "0.7281\n"
     ]
    }
   ],
   "source": [
    "tp, fp, fn, tn = [int(x) for x in input().split()]\n",
    "\n",
    "total = tp + fp + fn + tn\n",
    "accuracy = (tp + tn) / total\n",
    "precision = tp / (tp + fp)\n",
    "recall = tp / (tp + fn)\n",
    "f1_score = 2 * precision * recall / (precision + recall)\n",
    "\n",
    "print(round(accuracy,4))\n",
    "print(round(precision,4))\n",
    "print(round(recall,4))\n",
    "print(round(f1_score,4))"
   ]
  }
 ],
 "metadata": {
  "kernelspec": {
   "display_name": "Python 3",
   "language": "python",
   "name": "python3"
  },
  "language_info": {
   "codemirror_mode": {
    "name": "ipython",
    "version": 3
   },
   "file_extension": ".py",
   "mimetype": "text/x-python",
   "name": "python",
   "nbconvert_exporter": "python",
   "pygments_lexer": "ipython3",
   "version": "3.6.5"
  }
 },
 "nbformat": 4,
 "nbformat_minor": 2
}
