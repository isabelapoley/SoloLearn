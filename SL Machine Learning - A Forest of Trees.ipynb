{
 "cells": [
  {
   "cell_type": "markdown",
   "metadata": {},
   "source": [
    "Build a Random Forest model.\n",
    "\n",
    "Task:\n",
    "You will be given a feature matrix X and target array y. Your task is to split the data into training and test sets, build a Random Forest model with the training set, and make predictions for the test set. Give the random forest 5 trees.\n",
    "\n",
    "You will be given an integer to be used as the random state. Make sure to use it in both the train test split and the Random Forest model.\n",
    "\n",
    "Input Format:\n",
    "First line: integer (random state to use)\n",
    "Second line: integer (number of datapoints)\n",
    "Next n lines: Values of the row in the feature matrix, separated by spaces\n",
    "Last line: Target values separated by spaces\n",
    "\n",
    "Output Format:\n",
    "Numpy array of 1's and 0's\n",
    "\n",
    "Sample Input:\n",
    "1\n",
    "10\n",
    "-1.53 -2.86\n",
    "-4.42 0.71\n",
    "-1.55 1.04\n",
    "-0.6 -2.01\n",
    "-3.43 1.5\n",
    "1.45 -1.15\n",
    "-1.6 -1.52\n",
    "0.79 0.55\n",
    "1.37 -0.23\n",
    "1.23 1.72\n",
    "0 1 1 0 1 0 0 1 0 1\n",
    "\n",
    "Sample Output:\n",
    "[1 0 0]\n",
    "\n",
    "Explanation:\n",
    "The train test split puts these three points into the test set:\n",
    "[-1.55 1.04], [1.23 1.72], [-1.6 -1.52]. The true values for these points are [1 1 0] and the model correctly predicts [1 1 0]."
   ]
  },
  {
   "cell_type": "code",
   "execution_count": null,
   "metadata": {},
   "outputs": [],
   "source": [
    "import numpy as np\n",
    "import pandas as pd\n",
    "from sklearn.datasets import load_breast_cancer\n",
    "from sklearn.ensemble import RandomForestClassifier\n",
    "from sklearn.model_selection import train_test_split\n",
    "\n",
    "r_state = int(input())\n",
    "n = int(input())\n",
    "rows = []\n",
    "for i in range(n):\n",
    "    rows.append([float(a) for a in input().split()])\n",
    "\n",
    "X = np.array(rows)\n",
    "y = np.array([int(a) for a in input().split()])\n",
    "\n",
    "X_train, X_test, y_train, y_test = train_test_split(X, y, random_state = r_state)\n",
    "\n",
    "rf = RandomForestClassifier(n_estimators=5, random_state = r_state)\n",
    "rf.fit(X_train, y_train)\n",
    "\n",
    "print(rf.predict(X_test))"
   ]
  }
 ],
 "metadata": {
  "kernelspec": {
   "display_name": "Python 3",
   "language": "python",
   "name": "python3"
  },
  "language_info": {
   "codemirror_mode": {
    "name": "ipython",
    "version": 3
   },
   "file_extension": ".py",
   "mimetype": "text/x-python",
   "name": "python",
   "nbconvert_exporter": "python",
   "pygments_lexer": "ipython3",
   "version": "3.6.5"
  }
 },
 "nbformat": 4,
 "nbformat_minor": 2
}
