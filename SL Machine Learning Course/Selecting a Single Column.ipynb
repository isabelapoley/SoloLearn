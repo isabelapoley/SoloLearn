{
 "cells": [
  {
   "cell_type": "code",
   "execution_count": 1,
   "metadata": {},
   "outputs": [
    {
     "name": "stdout",
     "output_type": "stream",
     "text": [
      "0        7.2500\n",
      "1       71.2833\n",
      "2        7.9250\n",
      "3       53.1000\n",
      "4        8.0500\n",
      "5        8.4583\n",
      "6       51.8625\n",
      "7       21.0750\n",
      "8       11.1333\n",
      "9       30.0708\n",
      "10      16.7000\n",
      "11      26.5500\n",
      "12       8.0500\n",
      "13      31.2750\n",
      "14       7.8542\n",
      "15      16.0000\n",
      "16      29.1250\n",
      "17      13.0000\n",
      "18      18.0000\n",
      "19       7.2250\n",
      "20      26.0000\n",
      "21      13.0000\n",
      "22       8.0292\n",
      "23      35.5000\n",
      "24      21.0750\n",
      "25      31.3875\n",
      "26       7.2250\n",
      "27     263.0000\n",
      "28       7.8792\n",
      "29       7.8958\n",
      "         ...   \n",
      "857     11.5000\n",
      "858     25.9292\n",
      "859     69.5500\n",
      "860     13.0000\n",
      "861     13.0000\n",
      "862     13.8583\n",
      "863     50.4958\n",
      "864      9.5000\n",
      "865     11.1333\n",
      "866      7.8958\n",
      "867     52.5542\n",
      "868      5.0000\n",
      "869      9.0000\n",
      "870     24.0000\n",
      "871      7.2250\n",
      "872      9.8458\n",
      "873      7.8958\n",
      "874      7.8958\n",
      "875     83.1583\n",
      "876     26.0000\n",
      "877      7.8958\n",
      "878     10.5167\n",
      "879     10.5000\n",
      "880      7.0500\n",
      "881     29.1250\n",
      "882     13.0000\n",
      "883     30.0000\n",
      "884     23.4500\n",
      "885     30.0000\n",
      "886      7.7500\n",
      "Name: Fare, Length: 887, dtype: float64\n"
     ]
    }
   ],
   "source": [
    "import pandas as pd\n",
    "df = pd.read_csv('https://sololearn.com/uploads/files/titanic.csv')\n",
    "col = df['Fare']\n",
    "print(col)"
   ]
  }
 ],
 "metadata": {
  "kernelspec": {
   "display_name": "Python 3",
   "language": "python",
   "name": "python3"
  },
  "language_info": {
   "codemirror_mode": {
    "name": "ipython",
    "version": 3
   },
   "file_extension": ".py",
   "mimetype": "text/x-python",
   "name": "python",
   "nbconvert_exporter": "python",
   "pygments_lexer": "ipython3",
   "version": "3.6.5"
  }
 },
 "nbformat": 4,
 "nbformat_minor": 2
}
