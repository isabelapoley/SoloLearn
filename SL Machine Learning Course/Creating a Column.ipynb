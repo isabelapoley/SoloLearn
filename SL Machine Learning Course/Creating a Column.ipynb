{
 "cells": [
  {
   "cell_type": "code",
   "execution_count": 1,
   "metadata": {},
   "outputs": [
    {
     "name": "stdout",
     "output_type": "stream",
     "text": [
      "0       True\n",
      "1      False\n",
      "2      False\n",
      "3      False\n",
      "4       True\n",
      "5       True\n",
      "6       True\n",
      "7       True\n",
      "8      False\n",
      "9      False\n",
      "10     False\n",
      "11     False\n",
      "12      True\n",
      "13      True\n",
      "14     False\n",
      "15     False\n",
      "16      True\n",
      "17      True\n",
      "18     False\n",
      "19     False\n",
      "20      True\n",
      "21      True\n",
      "22     False\n",
      "23      True\n",
      "24     False\n",
      "25     False\n",
      "26      True\n",
      "27      True\n",
      "28     False\n",
      "29      True\n",
      "       ...  \n",
      "857     True\n",
      "858    False\n",
      "859    False\n",
      "860     True\n",
      "861    False\n",
      "862    False\n",
      "863     True\n",
      "864     True\n",
      "865     True\n",
      "866     True\n",
      "867    False\n",
      "868     True\n",
      "869     True\n",
      "870    False\n",
      "871    False\n",
      "872     True\n",
      "873     True\n",
      "874     True\n",
      "875    False\n",
      "876    False\n",
      "877     True\n",
      "878    False\n",
      "879     True\n",
      "880     True\n",
      "881    False\n",
      "882     True\n",
      "883    False\n",
      "884    False\n",
      "885     True\n",
      "886     True\n",
      "Name: Sex, Length: 887, dtype: bool\n"
     ]
    }
   ],
   "source": [
    "import pandas as pd\n",
    "df = pd.read_csv('https://sololearn.com/uploads/files/titanic.csv')\n",
    "print(df['Sex'] == 'male')"
   ]
  },
  {
   "cell_type": "code",
   "execution_count": 2,
   "metadata": {},
   "outputs": [
    {
     "name": "stdout",
     "output_type": "stream",
     "text": [
      "   Survived  Pclass     Sex   Age  Siblings/Spouses  Parents/Children  \\\n",
      "0         0       3    male  22.0                 1                 0   \n",
      "1         1       1  female  38.0                 1                 0   \n",
      "2         1       3  female  26.0                 0                 0   \n",
      "3         1       1  female  35.0                 1                 0   \n",
      "4         0       3    male  35.0                 0                 0   \n",
      "\n",
      "      Fare   male  \n",
      "0   7.2500   True  \n",
      "1  71.2833  False  \n",
      "2   7.9250  False  \n",
      "3  53.1000  False  \n",
      "4   8.0500   True  \n"
     ]
    }
   ],
   "source": [
    "import pandas as pd\n",
    "df = pd.read_csv('https://sololearn.com/uploads/files/titanic.csv')\n",
    "df['male'] = df['Sex'] == 'male'\n",
    "print(df.head())"
   ]
  }
 ],
 "metadata": {
  "kernelspec": {
   "display_name": "Python 3",
   "language": "python",
   "name": "python3"
  },
  "language_info": {
   "codemirror_mode": {
    "name": "ipython",
    "version": 3
   },
   "file_extension": ".py",
   "mimetype": "text/x-python",
   "name": "python",
   "nbconvert_exporter": "python",
   "pygments_lexer": "ipython3",
   "version": "3.6.5"
  }
 },
 "nbformat": 4,
 "nbformat_minor": 2
}
