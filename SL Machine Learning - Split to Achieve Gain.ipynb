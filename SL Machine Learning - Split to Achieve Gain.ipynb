{
 "cells": [
  {
   "cell_type": "markdown",
   "metadata": {},
   "source": [
    "Calculate Information Gain.\n",
    "\n",
    "Task:\n",
    "Given a dataset and a split of the dataset, calculate the information gain using the gini impurity.\n",
    "\n",
    "The first line of the input is a list of the target values in the initial dataset. The second line is the target values of the left split and the third line is the target values of the right split.\n",
    "\n",
    "Round your result to 5 decimal places. You can use round(x, 5).\n",
    "\n",
    "Input Format:\n",
    "Three lines of 1's and 0's separated by spaces\n",
    "\n",
    "Output Format:\n",
    "Float (rounded to 5 decimal places)\n",
    "\n",
    "Sample Input:\n",
    "1 0 1 0 1 0\n",
    "1 1 1\n",
    "0 0 0\n",
    "\n",
    "Sample Output:\n",
    "0.5\n",
    "\n",
    "Explanation:\n",
    "The initial set has 3 positive cases and 3 negative cases. Thus the gini impurity is 2*0.5*0.5=0.5.\n",
    "The left set has 3 positive cases and 0 negative cases. Thus the gini impurity is 2*1*0=0.\n",
    "The right set has 0 positive cases and 3 negative cases. Thus the gini impurity is 2*0*1=0.\n",
    "The information gain is 0.5-0-0=0.5"
   ]
  },
  {
   "cell_type": "code",
   "execution_count": 1,
   "metadata": {},
   "outputs": [
    {
     "name": "stdout",
     "output_type": "stream",
     "text": [
      "1 0 1 0 1 0\n",
      "1 1 1 \n",
      "0 0 0 \n",
      "0.5\n"
     ]
    }
   ],
   "source": [
    "S = [int(x) for x in input().split()]\n",
    "A = [int(x) for x in input().split()]\n",
    "B = [int(x) for x in input().split()]\n",
    "\n",
    "positives_S = 0\n",
    "positives_A = 0\n",
    "positives_B = 0\n",
    "\n",
    "for i in S:\n",
    "    if i == 1:\n",
    "        positives_S += 1\n",
    "p_S = positives_S / len(S)\n",
    "gini_S = 2 * p_S * (1 - p_S)\n",
    "\n",
    "for j in A:\n",
    "    if j == 1:\n",
    "        positives_A += 1\n",
    "p_A = positives_A / len(A)\n",
    "gini_A = 2 * p_A * (1 - p_A)\n",
    "\n",
    "for k in B:\n",
    "    if k == 1:\n",
    "        positives_B += 1\n",
    "p_B = positives_B / len(B)\n",
    "gini_B = 2 * p_B * (1 - p_B)\n",
    "\n",
    "\n",
    "information_gain = gini_S - (len(A)/len(S)) * gini_A - (len(B)/len(S)) * gini_B\n",
    "\n",
    "print(round(information_gain,5))"
   ]
  }
 ],
 "metadata": {
  "kernelspec": {
   "display_name": "Python 3",
   "language": "python",
   "name": "python3"
  },
  "language_info": {
   "codemirror_mode": {
    "name": "ipython",
    "version": 3
   },
   "file_extension": ".py",
   "mimetype": "text/x-python",
   "name": "python",
   "nbconvert_exporter": "python",
   "pygments_lexer": "ipython3",
   "version": "3.6.5"
  }
 },
 "nbformat": 4,
 "nbformat_minor": 2
}
