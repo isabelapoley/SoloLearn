{
 "cells": [
  {
   "cell_type": "markdown",
   "metadata": {},
   "source": [
    "Find which math expression matches the answer that you are given, if you have an integer answer, and a list of math expressions.\n",
    "\n",
    "Task: \n",
    "Test each math expression to find the first one that matches the answer that you are given.\n",
    "\n",
    "Input Format: \n",
    "Two inputs: an integer and a space separated string of math expressions. The following operations need to be supported: addition +, subtraction -, multiplication *, division /. \n",
    "An expression can include multiple operations.\n",
    "\n",
    "Output Format: \n",
    "A string that tells the index of the first math expression that matches. If there are no matches, output 'none'.\n",
    "\n",
    "Sample Input: \n",
    "15\n",
    "(2+100) (5*3) (14+1)\n",
    "\n",
    "Sample Output: \n",
    "index 1\n",
    "\n",
    "Explanation: \n",
    "Index counting starts at 0, so '(5*3)' is at index 1 and matches your answer of 15."
   ]
  },
  {
   "cell_type": "code",
   "execution_count": 1,
   "metadata": {},
   "outputs": [
    {
     "name": "stdout",
     "output_type": "stream",
     "text": [
      "15\n",
      "(2+100) (5*3) (14+1)\n",
      "index 1\n"
     ]
    }
   ],
   "source": [
    "num = int(input())\n",
    "math_expression = input().split()\n",
    "\n",
    "def result():\n",
    "    for i in math_expression:\n",
    "        a = eval(i)\n",
    "        if a == num:\n",
    "            print('index',math_expression.index(i))\n",
    "            return True\n",
    "\n",
    "if not result():\n",
    "    print('none')"
   ]
  }
 ],
 "metadata": {
  "kernelspec": {
   "display_name": "Python 3",
   "language": "python",
   "name": "python3"
  },
  "language_info": {
   "codemirror_mode": {
    "name": "ipython",
    "version": 3
   },
   "file_extension": ".py",
   "mimetype": "text/x-python",
   "name": "python",
   "nbconvert_exporter": "python",
   "pygments_lexer": "ipython3",
   "version": "3.6.5"
  }
 },
 "nbformat": 4,
 "nbformat_minor": 2
}
