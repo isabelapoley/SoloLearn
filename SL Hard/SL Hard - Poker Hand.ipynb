{
 "cells": [
  {
   "cell_type": "markdown",
   "metadata": {},
   "source": [
    "You are playing poker with your friends and need to evaluate your hand. \n",
    "A hand consists of five cards and is ranked, from lowest to highest, in the following way:\n",
    "High Card: Highest value card (from 2 to Ace).\n",
    "One Pair: Two cards of the same value.\n",
    "Two Pairs: Two different pairs.\n",
    "Three of a Kind: Three cards of the same value.\n",
    "Straight: All cards are consecutive values.\n",
    "Flush: All cards of the same suit.\n",
    "Full House: Three of a kind and a pair.\n",
    "Four of a Kind: Four cards of the same value.\n",
    "Straight Flush: All cards are consecutive values of same suit.\n",
    "Royal Flush: 10, Jack, Queen, King, Ace, in same suit. \n",
    "\n",
    "Task:\n",
    "Output the rank of the give poker hand. \n",
    "\n",
    "Input Format: \n",
    "A string, representing five cards, each indicating the value and suite of the card, separated by spaces. \n",
    "Possible card values are: 2 3 4 5 6 7 8 9 10 J Q K A\n",
    "Suites:  H (Hearts), D (Diamonds), C (Clubs), S (Spades)\n",
    "For example, JD indicates Jack of Diamonds. \n",
    "\n",
    "Output Format:\n",
    "A string, indicating the rank of the hand (in the format of the above description). \n",
    "\n",
    "Sample Input:\n",
    "JS 2H JC AC 2D\n",
    "\n",
    "Sample Output: \n",
    "Two Pairs\n",
    "\n",
    "Explanation: \n",
    "The hand includes two Jacks and two 2s, resulting in Two Pairs."
   ]
  },
  {
   "cell_type": "code",
   "execution_count": 1,
   "metadata": {},
   "outputs": [
    {
     "name": "stdout",
     "output_type": "stream",
     "text": [
      "JS 2H JC AC 2D\n",
      "Two Pairs\n"
     ]
    }
   ],
   "source": [
    "hand = input().replace(\"10\", \"T\")\n",
    "hand_list = hand.split(\" \")\n",
    "suits = [i[-1] for i in hand_list]\n",
    "flush = 1 if len(set(suits)) == 1 else 0\n",
    "letters = {\"T\": \"10\", \"J\": \"11\", \"Q\": \"12\", \"K\": \"13\", \"A\": \"14\"}\n",
    "values = [i[0] for i in hand_list]\n",
    "for i in range(5):\n",
    "    if values[i] in letters.keys():\n",
    "        values[i] = letters[values[i]]\n",
    "values = sorted([int(i) for i in values])\n",
    "if all([values[i] + 1 == values[i + 1] for i in range(4)]):\n",
    "    straight = 1\n",
    "else:\n",
    "    straight = 0\n",
    "    \n",
    "pairs = 0\n",
    "three = 0\n",
    "four = 0\n",
    "for item in values:\n",
    "    number = values.count(item)\n",
    "    if number == 4:\n",
    "        four = 1\n",
    "        break\n",
    "    elif number == 3:\n",
    "        three = 1\n",
    "    elif number == 2:\n",
    "        pairs += 1\n",
    "    \n",
    "if flush:\n",
    "    if values == [10, 11, 12, 13, 14]:\n",
    "        print(\"Royal Flush\")\n",
    "    elif straight:\n",
    "        print(\"Straight Flush\")\n",
    "    else:\n",
    "        print(\"Flush\")\n",
    "elif straight:\n",
    "    print(\"Straight\")\n",
    "elif four:\n",
    "    print(\"Four of a Kind\")\n",
    "elif three:\n",
    "    if pairs:\n",
    "        print(\"Full House\")\n",
    "    else:\n",
    "        print(\"Three of a Kind\")\n",
    "elif pairs == 4:\n",
    "    print(\"Two Pairs\")\n",
    "elif pairs == 2:\n",
    "    print(\"One Pair\")\n",
    "else:\n",
    "    print(\"High Card\")"
   ]
  }
 ],
 "metadata": {
  "kernelspec": {
   "display_name": "Python 3",
   "language": "python",
   "name": "python3"
  },
  "language_info": {
   "codemirror_mode": {
    "name": "ipython",
    "version": 3
   },
   "file_extension": ".py",
   "mimetype": "text/x-python",
   "name": "python",
   "nbconvert_exporter": "python",
   "pygments_lexer": "ipython3",
   "version": "3.6.5"
  }
 },
 "nbformat": 4,
 "nbformat_minor": 2
}
