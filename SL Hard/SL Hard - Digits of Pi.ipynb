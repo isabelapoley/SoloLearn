{
 "cells": [
  {
   "cell_type": "markdown",
   "metadata": {},
   "source": [
    "Digits of Pi\n",
    "\n",
    "The constant Pi is defined as the ratio of a circle's circumference to its diameter.\n",
    "Pi is an irrational number, meaning that it's digits never end or repeat in any known way. \n",
    "\n",
    "Task:\n",
    "Given an integer N as input, find and output the Nth decimal digit of Pi.\n",
    "\n",
    "Input Format:\n",
    "An integer: 0<N<1000\n",
    "\n",
    "Output Format: \n",
    "An integer, representing the Nth decimal digit of Pi.\n",
    "\n",
    "Sample Input:\n",
    "12\n",
    "\n",
    "Sample Output:\n",
    "9\n",
    "\n",
    "Explanation: \n",
    "The 12th decimal digit of Pi is 9: 3.14159265358*9*793..."
   ]
  },
  {
   "cell_type": "code",
   "execution_count": null,
   "metadata": {},
   "outputs": [],
   "source": [
    "position = int(input())\n",
    "def make_pi(): \n",
    "    q, r, t, k, m, x = 1, 0, 1, 1, 3, 3 \n",
    "    for j in range(1000): \n",
    "        if 4 * q + r - t < m * t: \n",
    "            yield m \n",
    "            q, r, t, k, m, x = 10*q, 10*(r-m*t), t, k, (10*(3*q+r))//t - 10*m, x                      \n",
    "        else: \n",
    "            q, r, t, k, m, x = q*k, (2*q+r)*x, t*x, k+1, (q*(7*k+2)+r*x)//(t*x), x+2 \n",
    "my_array = []         \n",
    "for i in make_pi(): \n",
    "    my_array.append(str(i)) \n",
    "my_array = my_array[:1] + ['.'] + my_array[1:] \n",
    "big_string = \"\".join(my_array) \n",
    "print(big_string[position+1])"
   ]
  }
 ],
 "metadata": {
  "kernelspec": {
   "display_name": "Python 3",
   "language": "python",
   "name": "python3"
  },
  "language_info": {
   "codemirror_mode": {
    "name": "ipython",
    "version": 3
   },
   "file_extension": ".py",
   "mimetype": "text/x-python",
   "name": "python",
   "nbconvert_exporter": "python",
   "pygments_lexer": "ipython3",
   "version": "3.6.5"
  }
 },
 "nbformat": 4,
 "nbformat_minor": 2
}
