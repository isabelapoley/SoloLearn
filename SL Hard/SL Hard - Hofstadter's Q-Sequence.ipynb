{
 "cells": [
  {
   "cell_type": "markdown",
   "metadata": {},
   "source": [
    "Hofstadter's Q-Sequence is a sequence of numbers where every integer above zero has a corresponding q-sequence value.  \n",
    "You can determine the q-sequence value from a formula that tells you how far back in the sequence to go and add two values together.  \n",
    "The first two values of the sequence are Q(1) = 1 and Q(2) = 1, and every number above 2 can be expressed according to the following formula (where n is your input value): Q(n) = Q(n - Q(n - 1)) + Q(n - Q(n -2))\n",
    " \n",
    "Task: \n",
    "Given an integer value input, determine and output the corresponding q-sequence value.\n",
    "\n",
    "Input Format: \n",
    "A positive integer value.\n",
    "\n",
    "Output Format: \n",
    "A positive integer value that represents the value in the q-sequence that the input holds.\n",
    "\n",
    "Sample Input: \n",
    "5\n",
    "\n",
    "Sample Output: \n",
    "3\n",
    "\n",
    "Explanation: \n",
    "Q(5) = Q(5-Q(5-1))+Q(5-Q(5-2)) = Q(5-Q(4))+Q(5-Q(3)) = Q(5-3)+Q(5-2) = Q(2)+Q(3) = 1+2 = 3"
   ]
  },
  {
   "cell_type": "code",
   "execution_count": 1,
   "metadata": {},
   "outputs": [
    {
     "name": "stdout",
     "output_type": "stream",
     "text": [
      "5\n",
      "3\n"
     ]
    }
   ],
   "source": [
    "def Q_Sequence(a, n = 0):\n",
    "     if a > 1:\n",
    "         Q = [1,1]  \n",
    "     else: \n",
    "         Q = [1]\n",
    "     for n in range(2,a): \n",
    "         Q += [Q[n - Q[n - 1]] +Q[n - Q[n - 2]]]\n",
    "     return Q[n]\n",
    "a = int(input() or 45)\n",
    "print(Q_Sequence(a))"
   ]
  }
 ],
 "metadata": {
  "kernelspec": {
   "display_name": "Python 3",
   "language": "python",
   "name": "python3"
  },
  "language_info": {
   "codemirror_mode": {
    "name": "ipython",
    "version": 3
   },
   "file_extension": ".py",
   "mimetype": "text/x-python",
   "name": "python",
   "nbconvert_exporter": "python",
   "pygments_lexer": "ipython3",
   "version": "3.6.5"
  }
 },
 "nbformat": 4,
 "nbformat_minor": 2
}
