{
 "cells": [
  {
   "cell_type": "markdown",
   "metadata": {},
   "source": [
    "A word is a sequence of letters A-Z. Rearranging the letters in the word, you can come up with new words, composed of the same letters. \n",
    "For example, the letters in the word TESTING can be rearranged to result in SETTING.\n",
    "If we sort all the words made up of the same set of letters alphabetically, we can calculate the rank of each word.  \n",
    "\n",
    "Task:\n",
    "Given a word (not limited to just \"dictionary words\"), calculate and output its rank among all the words that can be made from the letters of that word. The word can contain duplicate letters.\n",
    "\n",
    "Input Format:\n",
    "A string, representing a sequence of letters (A-Z).\n",
    "\n",
    "Output Format:\n",
    "An integer, representing the rank of the given word.\n",
    "\n",
    "Sample Input:\n",
    "ABAB\n",
    "\n",
    "Sample Output:\n",
    "2\n",
    "\n",
    "Explanation: \n",
    "Let's create a list of all the words that can be made up of the letters of the input and sort them alphabetically:\n",
    "1. AABB\n",
    "2. ABAB\n",
    "3. ABBA\n",
    "4. BAAB\n",
    "5. BABA\n",
    "6. BBAA\n",
    "The given word is number 2 in the list."
   ]
  },
  {
   "cell_type": "code",
   "execution_count": 1,
   "metadata": {},
   "outputs": [
    {
     "name": "stdout",
     "output_type": "stream",
     "text": [
      "ABAB\n",
      "2\n"
     ]
    }
   ],
   "source": [
    "from itertools import permutations\n",
    "word = input()\n",
    "word = [i for i in word]\n",
    "result = permutations(word)\n",
    "x = set(result)\n",
    "x = list(x)\n",
    "x.sort()\n",
    "for i in x:\n",
    "    if i == tuple(word):\n",
    "        print(x.index(i) + 1)\n",
    "        break"
   ]
  }
 ],
 "metadata": {
  "kernelspec": {
   "display_name": "Python 3",
   "language": "python",
   "name": "python3"
  },
  "language_info": {
   "codemirror_mode": {
    "name": "ipython",
    "version": 3
   },
   "file_extension": ".py",
   "mimetype": "text/x-python",
   "name": "python",
   "nbconvert_exporter": "python",
   "pygments_lexer": "ipython3",
   "version": "3.6.5"
  }
 },
 "nbformat": 4,
 "nbformat_minor": 2
}
