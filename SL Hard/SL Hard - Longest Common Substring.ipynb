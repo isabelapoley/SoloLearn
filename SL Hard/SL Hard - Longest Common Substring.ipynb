{
 "cells": [
  {
   "cell_type": "markdown",
   "metadata": {},
   "source": [
    "Task:\n",
    "Given multiple words, you need to find the longest string that is a substring of all words. \n",
    "\n",
    "Input Format:\n",
    "A string of words, separated by spaces. The string can also contain numbers.\n",
    "\n",
    "Output Format:\n",
    "A string, representing the longest common substring. \n",
    "If there are multiple longest common substrings, output the smallest one in alphabetical order.\n",
    "\n",
    "Sample Input:\n",
    "SoloLearn Learning LearningIsFun Learnable\n",
    "\n",
    "Sample Output:\n",
    "Learn\n",
    "\n",
    "Explanation: \n",
    "Learn is the longest common substring for the words SoloLearn Learning LearningIsFun Learnable."
   ]
  },
  {
   "cell_type": "code",
   "execution_count": 1,
   "metadata": {},
   "outputs": [
    {
     "name": "stdout",
     "output_type": "stream",
     "text": [
      "SoloLearn Learning LearningIsFun Learnable\n",
      "Learn\n"
     ]
    }
   ],
   "source": [
    "strings = input().split()\n",
    "a = min(strings, key = len)\n",
    "b = []\n",
    "c = 0\n",
    "d = 0\n",
    "e = []\n",
    "f = []\n",
    "\n",
    "while d in range(len(a) - d):\n",
    "    while c in range(len(a) - d):\n",
    "        for i in range(len(a) - d):\n",
    "            b.append(a[i:len(a) - d])\n",
    "            c += 1\n",
    "        d += 1\n",
    "        c = 0\n",
    "        \n",
    "for i in b:\n",
    "    for j in range(len(strings)):\n",
    "        if i in strings[j]:\n",
    "            e.append(i)\n",
    "            \n",
    "for i in range(len(e)):\n",
    "    if e.count(e[i]) == len(strings):\n",
    "        f.append(e[i])\n",
    "f = sorted(set(f))\n",
    "\n",
    "print(max(f, key = len))"
   ]
  }
 ],
 "metadata": {
  "kernelspec": {
   "display_name": "Python 3",
   "language": "python",
   "name": "python3"
  },
  "language_info": {
   "codemirror_mode": {
    "name": "ipython",
    "version": 3
   },
   "file_extension": ".py",
   "mimetype": "text/x-python",
   "name": "python",
   "nbconvert_exporter": "python",
   "pygments_lexer": "ipython3",
   "version": "3.6.5"
  }
 },
 "nbformat": 4,
 "nbformat_minor": 2
}
