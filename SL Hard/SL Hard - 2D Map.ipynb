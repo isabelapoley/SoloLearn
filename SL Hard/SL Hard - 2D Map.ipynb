{
 "cells": [
  {
   "cell_type": "markdown",
   "metadata": {},
   "source": [
    "You're given a representation of a 5x5 2D map, and if you can only move left, right, up, or down, determine how many moves you would have to make to get between two points on the map.\n",
    "\n",
    "Task:\n",
    "Determine the total number of moves that are needed between two points on a map.  The points that you move between are marked with a P and the spaces in between are marked with X.\n",
    "\n",
    "Input Format: \n",
    "A string that represents the 2D space starting at the top left.  Each level from top to bottom is separated by a comma.\n",
    "\n",
    "Output Format: \n",
    "An integer that represents the total number of moves that you had to make.\n",
    "\n",
    "Sample Input: \n",
    "XPXXX,XXXXX,XXXXX,XXXPX,XXXXX\n",
    "\n",
    "Sample Output: \n",
    "5\n",
    "\n",
    "Explanation:\n",
    "\n",
    "The map looks as:\n",
    "XPXXX\n",
    "XXXXX\n",
    "XXXXX\n",
    "XXXPX\n",
    "XXXXX\n",
    "\n",
    "You had to move right 2 spaces, then down 3 spaces for a total of 5 moves."
   ]
  },
  {
   "cell_type": "code",
   "execution_count": 1,
   "metadata": {},
   "outputs": [
    {
     "name": "stdout",
     "output_type": "stream",
     "text": [
      "XPXXX,XXXXX,XXXXX,XXXPX,XXXXX\n",
      "5\n"
     ]
    }
   ],
   "source": [
    "my_map = input()\n",
    "\n",
    "my_dict = {}\n",
    "count = 0\n",
    "\n",
    "for i in my_map:\n",
    "    if i == 'P' or i == 'X':\n",
    "        my_dict[count] = i\n",
    "        count += 1\n",
    "here = []\n",
    "for i,j in my_dict.items():\n",
    "    if j == 'P':\n",
    "        here.append(i)\n",
    "\n",
    "x_min = here[0]\n",
    "y_max = here[1]\n",
    "\n",
    "x_here = abs(x_min//5 * 5 - x_min - 1)\n",
    "y_here = abs(y_max//5 * 5 - y_max - 1)\n",
    "step_one = abs(y_here - x_here)\n",
    "step_two = y_max//5 - x_min//5\n",
    "step_tree = step_one + step_two\n",
    "print(step_tree)"
   ]
  }
 ],
 "metadata": {
  "kernelspec": {
   "display_name": "Python 3",
   "language": "python",
   "name": "python3"
  },
  "language_info": {
   "codemirror_mode": {
    "name": "ipython",
    "version": 3
   },
   "file_extension": ".py",
   "mimetype": "text/x-python",
   "name": "python",
   "nbconvert_exporter": "python",
   "pygments_lexer": "ipython3",
   "version": "3.6.5"
  }
 },
 "nbformat": 4,
 "nbformat_minor": 2
}
