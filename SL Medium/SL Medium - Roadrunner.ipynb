{
 "cells": [
  {
   "cell_type": "markdown",
   "metadata": {},
   "source": [
    "A coyote is chasing a roadrunner and they start out 50 feet apart. If you know how fast they are both traveling, and how far the roadrunner is from safety, determine whether or not the coyote is able to catch the roadrunner. \n",
    "Both animals and the roadrunner's safe place are on a straight line.\n",
    "\n",
    "Task: \n",
    "Determine whether or not the roadrunner made it to safety.\n",
    "\n",
    "Input Format: \n",
    "Three integer values, the first value represents the distance the roadrunner is from safety, then the roadrunner's speed (feet/second) and then the coyote's speed (feet/second).\n",
    "\n",
    "Output Format: \n",
    "A string that says 'Meep Meep' if the roadrunner made it, or 'Yum' if the coyote caught up to the roadrunner.\n",
    "\n",
    "Sample Input: \n",
    "10 \n",
    "5 \n",
    "20\n",
    "\n",
    "Sample Output: \n",
    "Meep Meep\n",
    "\n",
    "Explanation: \n",
    "The roadrunner is safe because it took them 2 seconds to get to safety while the coyote only got 30 feet closer to the roadrunner in that same amount of time."
   ]
  },
  {
   "cell_type": "code",
   "execution_count": 1,
   "metadata": {},
   "outputs": [
    {
     "name": "stdout",
     "output_type": "stream",
     "text": [
      "10\n",
      "5\n",
      "20\n",
      "Meep Meep\n"
     ]
    }
   ],
   "source": [
    "safety = int(input())\n",
    "roadrunner_speed = int(input())\n",
    "coyote_speed = int(input())\n",
    "try:\n",
    "    roadrunner_time = safety / roadrunner_speed \n",
    "    coyote_time = (50 + safety) / coyote_speed \n",
    "    if coyote_time < roadrunner_time:\n",
    "        print('Yum')\n",
    "    else: \n",
    "        print('Meep Meep')\n",
    "except ZeroDivisionError: \n",
    "    if roadrunner_speed == 0:\n",
    "        print('Yum')\n",
    "    else:\n",
    "        print('Meep Meep')"
   ]
  }
 ],
 "metadata": {
  "kernelspec": {
   "display_name": "Python 3",
   "language": "python",
   "name": "python3"
  },
  "language_info": {
   "codemirror_mode": {
    "name": "ipython",
    "version": 3
   },
   "file_extension": ".py",
   "mimetype": "text/x-python",
   "name": "python",
   "nbconvert_exporter": "python",
   "pygments_lexer": "ipython3",
   "version": "3.6.5"
  }
 },
 "nbformat": 4,
 "nbformat_minor": 2
}
