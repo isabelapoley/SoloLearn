{
 "cells": [
  {
   "cell_type": "markdown",
   "metadata": {},
   "source": [
    "You need to decompress text. The compressed version has a number next to each symbol/letter, representing the amount of time that symbol should appear. \n",
    "For example, a2b3 is the compressed version of aabbb\n",
    "\n",
    "Task: \n",
    "Write a program that takes the compressed text as input and outputs the decompressed version.\n",
    "\n",
    "Input Format: \n",
    "A single string with letters/symbols, each followed by a number.\n",
    "\n",
    "Output Format: \n",
    "A string, representing the decompressed text.\n",
    "\n",
    "Sample Input: \n",
    "k2&4b1\n",
    "\n",
    "Sample Output: \n",
    "kk&&&&b\n",
    "\n",
    "Explanation: \n",
    "The letter k appears 2 times, the symbol & - 4 times and the letter b - 1 time."
   ]
  },
  {
   "cell_type": "code",
   "execution_count": 1,
   "metadata": {},
   "outputs": [
    {
     "name": "stdout",
     "output_type": "stream",
     "text": [
      "k2&4b1\n",
      "kk&&&&b\n"
     ]
    }
   ],
   "source": [
    "string = input()\n",
    "l = len(string)\n",
    "splitted =[]\n",
    "numbers = []\n",
    "symbols = []\n",
    "s =''\n",
    "for i in range(l):\n",
    "    splitted.append(string[i])\n",
    "for j in range(1,l,2): \n",
    "    number = int(splitted[j])\n",
    "    numbers.append(number)\n",
    "for k in range(0,l,2):\n",
    "    symbol = splitted[k]\n",
    "    symbols.append(symbol)\n",
    "parts = [(symbols[n])*(numbers[n]) for n in range(l//2)]\n",
    "print(s.join(parts))"
   ]
  }
 ],
 "metadata": {
  "kernelspec": {
   "display_name": "Python 3",
   "language": "python",
   "name": "python3"
  },
  "language_info": {
   "codemirror_mode": {
    "name": "ipython",
    "version": 3
   },
   "file_extension": ".py",
   "mimetype": "text/x-python",
   "name": "python",
   "nbconvert_exporter": "python",
   "pygments_lexer": "ipython3",
   "version": "3.6.5"
  }
 },
 "nbformat": 4,
 "nbformat_minor": 2
}
