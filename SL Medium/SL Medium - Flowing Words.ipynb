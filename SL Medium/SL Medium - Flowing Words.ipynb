{
 "cells": [
  {
   "cell_type": "markdown",
   "metadata": {},
   "source": [
    "If a sentence flows, the first letter of each word will be the same to the last letter of the previous word. \n",
    "\n",
    "Task:\n",
    "Write a program that takes in a string that contains a sentence, checks if the first letter of each word is the same as the last letter of the previous word. If the condition is met, output true, if not, output false. \n",
    "Casing does not matter.\n",
    "\n",
    "Input Format: \n",
    "A string containing a sentence of words.\n",
    "\n",
    "Output Format: \n",
    "A string: true or false.\n",
    "\n",
    "Sample Input:\n",
    "this string gets stuck\n",
    "\n",
    "Sample Output: \n",
    "true\n",
    "\n",
    "Explanation: \n",
    "Each word begins with the letter that the previous word ends with, therefore the output is true."
   ]
  },
  {
   "cell_type": "code",
   "execution_count": 1,
   "metadata": {},
   "outputs": [
    {
     "name": "stdout",
     "output_type": "stream",
     "text": [
      "this string gets stuck\n",
      "true\n"
     ]
    }
   ],
   "source": [
    "sentence = input().split()\n",
    "n = len(sentence)\n",
    "for i in range(n-1):\n",
    "    if sentence[i][-1] != sentence[i+1][0]:\n",
    "        print('false')\n",
    "        end\n",
    "    else:\n",
    "        continue\n",
    "print('true')"
   ]
  }
 ],
 "metadata": {
  "kernelspec": {
   "display_name": "Python 3",
   "language": "python",
   "name": "python3"
  },
  "language_info": {
   "codemirror_mode": {
    "name": "ipython",
    "version": 3
   },
   "file_extension": ".py",
   "mimetype": "text/x-python",
   "name": "python",
   "nbconvert_exporter": "python",
   "pygments_lexer": "ipython3",
   "version": "3.6.5"
  }
 },
 "nbformat": 4,
 "nbformat_minor": 2
}
