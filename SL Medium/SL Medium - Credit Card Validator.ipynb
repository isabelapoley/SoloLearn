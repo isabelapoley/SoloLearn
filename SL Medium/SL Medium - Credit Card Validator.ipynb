{
 "cells": [
  {
   "cell_type": "markdown",
   "metadata": {},
   "source": [
    "You need to verify if the given credit card number is valid. For that you need to use the Luhn test.\n",
    "\n",
    "Here is the Luhn formula:\n",
    "1. Reverse the number.\n",
    "2. Multiple every second digit by 2. \n",
    "3. Subtract 9 from all numbers higher than 9.\n",
    "4. Add all the digits together.\n",
    "5. Modulo 10 of that sum should be equal to 0. \n",
    "\n",
    "Task: \n",
    "Given a credit card number, validate that it is valid using the Luhn test. Also, all valid cards must have exactly 16 digits.\n",
    "\n",
    "Input Format:\n",
    "A string containing the credit card number you need to verify.\n",
    "\n",
    "Output Format:\n",
    "A string: 'valid' in case the input is a valid credit card number (passes the Luhn test and is 16 digits long), or 'not valid', if it's not.\n",
    "\n",
    "Sample Input:\n",
    "4091131560563988\n",
    "\n",
    "Sample Output:\n",
    "valid\n",
    "\n",
    "Explanation: \n",
    "Let's run the Luhn test for our input:\n",
    "Reverse: 8893650651311904\n",
    "Multiplying the even positions by 2: 8 16 9 6 6 10 0 12 5 2 3 2 1 18 0 8\n",
    "Subtract 9 from >9: 8 7 9 6 6 1 0 3 5 2 3 2 1 9 0 8\n",
    "The sum: 70\n",
    "70 Modulo 10 is 0.\n",
    "The input passed the Luhn test and contains 16 digits, making it a valid credit card number."
   ]
  },
  {
   "cell_type": "code",
   "execution_count": 1,
   "metadata": {},
   "outputs": [
    {
     "name": "stdout",
     "output_type": "stream",
     "text": [
      "4091131560563988\n",
      "valid\n"
     ]
    }
   ],
   "source": [
    "credit_card = list(input())\n",
    "if len(credit_card) != 16:\n",
    "    print('not valid')\n",
    "credit_card = credit_card[::-1]\n",
    "numbers = [int(i) for i in credit_card]\n",
    "for j in range(16):\n",
    "    if j % 2 != 0:\n",
    "       numbers[j] *= 2\n",
    "    if numbers[j] > 9:\n",
    "       numbers[j] -= 9\n",
    "if sum(numbers) % 10 == 0:\n",
    "    print('valid')\n",
    "else:\n",
    "    print('not valid')"
   ]
  }
 ],
 "metadata": {
  "kernelspec": {
   "display_name": "Python 3",
   "language": "python",
   "name": "python3"
  },
  "language_info": {
   "codemirror_mode": {
    "name": "ipython",
    "version": 3
   },
   "file_extension": ".py",
   "mimetype": "text/x-python",
   "name": "python",
   "nbconvert_exporter": "python",
   "pygments_lexer": "ipython3",
   "version": "3.6.5"
  }
 },
 "nbformat": 4,
 "nbformat_minor": 2
}
