{
 "cells": [
  {
   "cell_type": "markdown",
   "metadata": {},
   "source": [
    "You are given a word and want to split it into even parts based on a number that is provided, each half being the size of the number.\n",
    "\n",
    "Task: \n",
    "Write a program that takes in a string, and a number as input. \n",
    "Split the string into even parts sized by the number, and output the parts separated by hyphens. \n",
    "The last part of the output will be any leftover, as the input string might not split into the provided parts evenly.\n",
    "\n",
    "Input Format: \n",
    "Two inputs: a string and an integer.\n",
    "\n",
    "Output Format: \n",
    "A string, representing the hyphen-separated parts.\n",
    "\n",
    "Sample Input: \n",
    "hello\n",
    "2\n",
    "\n",
    "Sample Output: \n",
    "he-ll-o\n",
    "\n",
    "Explanation:\n",
    "We split the word \"hello\" into 2-sized parts. The last letter o was leftover, resulting in the output he-ll-o."
   ]
  },
  {
   "cell_type": "code",
   "execution_count": 1,
   "metadata": {},
   "outputs": [
    {
     "name": "stdout",
     "output_type": "stream",
     "text": [
      "hello\n",
      "2\n",
      "he-ll-o\n"
     ]
    }
   ],
   "source": [
    "word = input()\n",
    "l = len(word)\n",
    "s = int(input())\n",
    "splitted_word =[]\n",
    "hyphen = '-'\n",
    "for i in range(0,l,s):\n",
    "    j = i + s\n",
    "    splitted_word.append(word[i:j])\n",
    "answer = hyphen.join(splitted_word)\n",
    "print(answer)"
   ]
  }
 ],
 "metadata": {
  "kernelspec": {
   "display_name": "Python 3",
   "language": "python",
   "name": "python3"
  },
  "language_info": {
   "codemirror_mode": {
    "name": "ipython",
    "version": 3
   },
   "file_extension": ".py",
   "mimetype": "text/x-python",
   "name": "python",
   "nbconvert_exporter": "python",
   "pygments_lexer": "ipython3",
   "version": "3.6.5"
  }
 },
 "nbformat": 4,
 "nbformat_minor": 2
}
