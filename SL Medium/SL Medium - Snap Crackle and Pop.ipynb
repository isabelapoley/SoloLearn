{
 "cells": [
  {
   "cell_type": "markdown",
   "metadata": {},
   "source": [
    "You have six bowls of Rice Krispies in front of you, and they make different noises when you pour milk over them based on the total number of Rice Krispies in each bowl.\n",
    "If a bowl has a number of Rice Krispies that is divisible by 3, it will make a Pop sound. If it is not divisible by 3 but is odd it will make a Snap sound.  If it is not divisible by 3, but it is even, it will make a Crackle sound.\n",
    "\n",
    "Task: \n",
    "Based on the quantities in each bowl, output the noise that they make.\n",
    "\n",
    "Input Format: \n",
    "You receive 6 integers and each integer represents the number of Rice Krispies in your bowls.\n",
    "\n",
    "Output Format: \n",
    "You should output a string with the sounds made by each bowl separated by spaces in the order that they were input.\n",
    "\n",
    "Sample Input: \n",
    "18\n",
    "5\n",
    "100\n",
    "25\n",
    "40\n",
    "24\n",
    "\n",
    "Sample Output: \n",
    "Pop Snap Crackle Snap Crackle Pop\n",
    "\n",
    "Explanation: \n",
    "Each number divisible by 3 makes a pop sound. If not, the even numbers produce a Crackle, and the odd numbers produce a Snap."
   ]
  },
  {
   "cell_type": "code",
   "execution_count": 1,
   "metadata": {},
   "outputs": [
    {
     "name": "stdout",
     "output_type": "stream",
     "text": [
      "18\n",
      "5\n",
      "100\n",
      "25\n",
      "40\n",
      "24\n",
      "Pop Snap Crackle Snap Crackle Pop\n"
     ]
    }
   ],
   "source": [
    "bowls = []\n",
    "sound_list = []\n",
    "for i in range(6):\n",
    "    rice_krispies = int(input())\n",
    "    bowls.append(rice_krispies)\n",
    "for j in bowls:\n",
    "    if j % 3 == 0:\n",
    "        sound_list.append('Pop')\n",
    "    elif j % 2 != 0:\n",
    "        sound_list.append('Snap')\n",
    "    elif j % 2 == 0:\n",
    "        sound_list.append('Crackle')\n",
    "sounds = ' '\n",
    "sounds = sounds.join(sound_list)\n",
    "print(sounds)"
   ]
  }
 ],
 "metadata": {
  "kernelspec": {
   "display_name": "Python 3",
   "language": "python",
   "name": "python3"
  },
  "language_info": {
   "codemirror_mode": {
    "name": "ipython",
    "version": 3
   },
   "file_extension": ".py",
   "mimetype": "text/x-python",
   "name": "python",
   "nbconvert_exporter": "python",
   "pygments_lexer": "ipython3",
   "version": "3.6.5"
  }
 },
 "nbformat": 4,
 "nbformat_minor": 2
}
