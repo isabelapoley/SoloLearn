{
 "cells": [
  {
   "cell_type": "markdown",
   "metadata": {},
   "source": [
    "You are robbing a bank, but you’re not taking everything. You are looking for a specific item in the safety deposit boxes and you are going to drill into each one in order to find your item. Once you find your item you can make your escape, but how long will it take you to get to that item?\n",
    "\n",
    "Task:\n",
    "Determine the amount of time it will take you to find the item you are looking for if it takes you 5 minutes to drill into each box.\n",
    "\n",
    "Input Format: \n",
    "A string that represent the items in each box that will be drilled in order (items are separated by a comma), and secondly, a string of which item you are looking for.\n",
    "\n",
    "Output Format: \n",
    "An integer of the amount of time it will take for you to find your item.\n",
    "\n",
    "Sample Input:\n",
    "'gold,diamonds,documents,Declaration of Independence,keys'\n",
    "'Declaration of Independence'\n",
    "\n",
    "Sample Output: \n",
    "20\n",
    "\n",
    "Explanation:\n",
    "It will take you 20 minutes before you drill into the 4th box, which contains your item, the Declaration of Independence."
   ]
  },
  {
   "cell_type": "code",
   "execution_count": null,
   "metadata": {},
   "outputs": [],
   "source": [
    "boxes = input().split(',')\n",
    "item = input()\n",
    "time = 5\n",
    "for content in boxes:\n",
    "    if content == item:\n",
    "        print(time)\n",
    "        break\n",
    "    else:\n",
    "        time += 5"
   ]
  }
 ],
 "metadata": {
  "kernelspec": {
   "display_name": "Python 3",
   "language": "python",
   "name": "python3"
  },
  "language_info": {
   "codemirror_mode": {
    "name": "ipython",
    "version": 3
   },
   "file_extension": ".py",
   "mimetype": "text/x-python",
   "name": "python",
   "nbconvert_exporter": "python",
   "pygments_lexer": "ipython3",
   "version": "3.6.5"
  }
 },
 "nbformat": 4,
 "nbformat_minor": 2
}
