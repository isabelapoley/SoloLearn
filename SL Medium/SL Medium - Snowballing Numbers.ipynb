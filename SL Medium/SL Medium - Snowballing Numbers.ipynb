{
 "cells": [
  {
   "cell_type": "markdown",
   "metadata": {},
   "source": [
    "You are given a list of numbers in a particular order. You need to check to see if each number is greater than the sum of all the previous number of the list.  \n",
    "If they are, you have created successful snowball numbers.\n",
    "\n",
    "Task: \n",
    "Create a program that takes in an array of numbers, check if each number is greater than the sum of all previous numbers, and output true if the condition is met, and false, if not.\n",
    "\n",
    "Input Format: \n",
    "The first input denotes the length of the list (N). The next N lines contain the list elements as integers. \n",
    "\n",
    "Output Format: \n",
    "A string, true or false.\n",
    "\n",
    "Sample Input: \n",
    "4\n",
    "1\n",
    "3\n",
    "7\n",
    "58\n",
    "\n",
    "Sample Output: \n",
    "true\n",
    "\n",
    "Explanation: \n",
    "Each number in the input list is greater than the sum of the previous numbers: 3>1, 7>3+1, 58>7+3+1"
   ]
  },
  {
   "cell_type": "code",
   "execution_count": 1,
   "metadata": {},
   "outputs": [
    {
     "name": "stdout",
     "output_type": "stream",
     "text": [
      "4\n",
      "1\n",
      "3\n",
      "7\n",
      "58\n",
      "true\n"
     ]
    }
   ],
   "source": [
    "length = int(input())\n",
    "number_list = []\n",
    "number_sum = 0\n",
    "for i in range(length):\n",
    "    number = int(input())\n",
    "    number_list.append(number)\n",
    "for j in number_list :\n",
    "    if j > number_sum:\n",
    "        number_sum += j\n",
    "    else:\n",
    "        print('false')\n",
    "        end\n",
    "print('true')"
   ]
  }
 ],
 "metadata": {
  "kernelspec": {
   "display_name": "Python 3",
   "language": "python",
   "name": "python3"
  },
  "language_info": {
   "codemirror_mode": {
    "name": "ipython",
    "version": 3
   },
   "file_extension": ".py",
   "mimetype": "text/x-python",
   "name": "python",
   "nbconvert_exporter": "python",
   "pygments_lexer": "ipython3",
   "version": "3.6.5"
  }
 },
 "nbformat": 4,
 "nbformat_minor": 2
}
