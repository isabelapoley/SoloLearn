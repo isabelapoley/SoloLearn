{
 "cells": [
  {
   "cell_type": "markdown",
   "metadata": {},
   "source": [
    "You are dividing up building block toys by color into even amounts for all of the kids in a 15 person kindergarten class. You don't want to give anyone more than anyone else, so you might have some leftover blocks of each color in the end.  How many total do you have left over?\n",
    "\n",
    "Task: \n",
    "If you know how many of each color block you have, add up the leftover blocks to come up with the amount you will have after you have evenly distributed each color to all 15 students.\n",
    "\n",
    "Input Format: \n",
    "4 integers that represent the blue, red, green, and yellow blocks that you are sorting out (in that order).\n",
    "\n",
    "Output Format: \n",
    "An integer of the total remaining blocks after you have distributed an even amount to all 15 students.\n",
    "\n",
    "Sample Input: \n",
    "150\n",
    "20\n",
    "300\n",
    "53\n",
    "\n",
    "Sample Output: \n",
    "13\n",
    "\n",
    "Explanation: \n",
    "You will have 5 red blocks and 8 yellow blocks left over which totals 13 leftover blocks."
   ]
  },
  {
   "cell_type": "code",
   "execution_count": 1,
   "metadata": {},
   "outputs": [
    {
     "name": "stdout",
     "output_type": "stream",
     "text": [
      "150\n",
      "20\n",
      "300\n",
      "53\n",
      "13\n"
     ]
    }
   ],
   "source": [
    "remaining = []\n",
    "for i in range(4):\n",
    "    color = int(input())\n",
    "    remaining.append(color % 15)\n",
    "print(sum(remaining))"
   ]
  }
 ],
 "metadata": {
  "kernelspec": {
   "display_name": "Python 3",
   "language": "python",
   "name": "python3"
  },
  "language_info": {
   "codemirror_mode": {
    "name": "ipython",
    "version": 3
   },
   "file_extension": ".py",
   "mimetype": "text/x-python",
   "name": "python",
   "nbconvert_exporter": "python",
   "pygments_lexer": "ipython3",
   "version": "3.6.5"
  }
 },
 "nbformat": 4,
 "nbformat_minor": 2
}
