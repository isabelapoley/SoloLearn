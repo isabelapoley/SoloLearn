{
 "cells": [
  {
   "cell_type": "markdown",
   "metadata": {},
   "source": [
    "You make a purchase of souvenirs priced in Euros at a duty free store in the Rome airport. You didn't want to spend any more than 20 US Dollars on any specific item. \n",
    "Can you go through your list and make sure you stayed under your limit? The conversion rate on this day is 1.1 US Dollars to 1 Euro.\n",
    "\n",
    "Task: \n",
    "Evaluate each item that you purchased to make sure that you didn't spend more than $20 on that particular item. \n",
    "If you did, you will need to go back to the store to return it.  \n",
    "\n",
    "Input Format: \n",
    "An string of numbers separated by spaces that represent the prices of each of your items in Euros.\n",
    "\n",
    "Output Format: \n",
    "A string that says 'On to the terminal' if you stayed under your cap, or 'Back to the store' if you spent too much money.\n",
    "\n",
    "Sample Input: \n",
    "18 15.50 2 14\n",
    "\n",
    "Sample Output: \n",
    "On to the terminal\n",
    "\n",
    "Explanation: \n",
    "You stayed under your cap because your most expensive item only cost $19.80 in US dollars (1 Euro = 1.1 USD)."
   ]
  },
  {
   "cell_type": "code",
   "execution_count": 1,
   "metadata": {},
   "outputs": [
    {
     "name": "stdout",
     "output_type": "stream",
     "text": [
      "18 15.50 2 14\n",
      "On to the terminal\n"
     ]
    }
   ],
   "source": [
    "itens = input().split()\n",
    "prices = [float(item) for item in itens]\n",
    "for price in prices:\n",
    "    price *=1.1\n",
    "    if price > 20:\n",
    "        print('Back to the store')\n",
    "        end\n",
    "    else:\n",
    "        continue \n",
    "print('On to the terminal')"
   ]
  }
 ],
 "metadata": {
  "kernelspec": {
   "display_name": "Python 3",
   "language": "python",
   "name": "python3"
  },
  "language_info": {
   "codemirror_mode": {
    "name": "ipython",
    "version": 3
   },
   "file_extension": ".py",
   "mimetype": "text/x-python",
   "name": "python",
   "nbconvert_exporter": "python",
   "pygments_lexer": "ipython3",
   "version": "3.6.5"
  }
 },
 "nbformat": 4,
 "nbformat_minor": 2
}
