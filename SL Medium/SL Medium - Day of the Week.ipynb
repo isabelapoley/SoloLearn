{
 "cells": [
  {
   "cell_type": "markdown",
   "metadata": {},
   "source": [
    "You receive a date and need to know what day of the week it is. \n",
    " \n",
    "Task: \n",
    "Create a program that takes in a string containing a date, and outputs the day of the week.\n",
    "\n",
    "Input Format: \n",
    "A string containing a date in either \"MM/DD/YYYY\" format or \"Month Day, Year\" format.\n",
    "\n",
    "Output Format: \n",
    "A string containing the day of the week from the provided date.\n",
    "\n",
    "Sample Input: \n",
    "11/19/2019\n",
    "\n",
    "Sample Output: \n",
    "Tuesday"
   ]
  },
  {
   "cell_type": "code",
   "execution_count": 1,
   "metadata": {},
   "outputs": [],
   "source": [
    "import calendar"
   ]
  },
  {
   "cell_type": "code",
   "execution_count": 2,
   "metadata": {},
   "outputs": [
    {
     "name": "stdout",
     "output_type": "stream",
     "text": [
      "11/19/2019\n"
     ]
    }
   ],
   "source": [
    "date = str(input())"
   ]
  },
  {
   "cell_type": "code",
   "execution_count": 3,
   "metadata": {},
   "outputs": [],
   "source": [
    "# input format checking routine\n",
    "if date[2] == '/':\n",
    "    month_number, day_number, year = (int(val) for val in date.split('/'))\n",
    "else:\n",
    "    if date[0:7] == 'January':\n",
    "        month_number = 1\n",
    "        day_number = int(date[8:10])\n",
    "        year = int(date[12:16])\n",
    "    if date[0:8] == 'February':\n",
    "        month_number = 2\n",
    "        day_number = int(date[9:11])\n",
    "        year = int(date[13:17])\n",
    "    if date[0:5] == 'March':\n",
    "        month_number = 3\n",
    "        day_number = int(date[6:8])\n",
    "        year = int(date[10:14])\n",
    "    if date[0:5] == 'April':\n",
    "        month_number = 4\n",
    "        day_number = int(date[6:8])\n",
    "        year = int(date[10:14])\n",
    "    if date[0:3] == 'May':\n",
    "        month_number = 5\n",
    "        day_number = int(date[4:6])\n",
    "        year = int(date[8:12])\n",
    "    if date[0:4] == 'June':\n",
    "        month_number = 6\n",
    "        day_number = int(date[5:7])\n",
    "        year = int(date[9:13])\n",
    "    if date[0:4] == 'July':\n",
    "        month_number = 7\n",
    "        day_number = int(date[5:7])\n",
    "        year = int(date[9:13])\n",
    "    if date[0:6] == 'August':\n",
    "        month_number = 8\n",
    "        day_number = int(date[7:9])\n",
    "        year = int(date[11:15])\n",
    "    if date[0:9] == 'September':\n",
    "        month_number = 9\n",
    "        day_number = int(date[10:12])\n",
    "        year = int(date[14:18])\n",
    "    if date[0:7] == 'October':\n",
    "        month_number = 10\n",
    "        day_number = int(date[8:10])\n",
    "        year = int(date[12:16])\n",
    "    if date[0:8] == 'November':\n",
    "        month_number = 11\n",
    "        day_number = int(date[9:11])\n",
    "        year = int(date[13:17])\n",
    "    if date[0:8] == 'December':\n",
    "        month_number = 12\n",
    "        day_number = int(date[9:11])\n",
    "        year = int(date[13:17])"
   ]
  },
  {
   "cell_type": "code",
   "execution_count": 4,
   "metadata": {},
   "outputs": [
    {
     "name": "stdout",
     "output_type": "stream",
     "text": [
      "Tuesday\n"
     ]
    }
   ],
   "source": [
    "# extract integers from date string\n",
    "if year < 1970:            # i.e., if Python calendar module doesn't apply\n",
    "    if month_number < 3:   # if month is January or February\n",
    "        year -= 1          # use previous year\n",
    "        month_number += 10 # set January to 11 and February to 12\n",
    "    else:\n",
    "        month_number -= 2  # otherwise adjust month number to align with\n",
    "        # 1 = March, 2 = April etc.\n",
    "    weekday_number = (day_number + (13 * month_number + 1) // 5 + year + year // 4 - year // 100 + year // 400) % 7 - 1\n",
    "else:\n",
    "    weekday_number = calendar.weekday(year, month_number, day_number)\n",
    "print(calendar.day_name[weekday_number])"
   ]
  }
 ],
 "metadata": {
  "kernelspec": {
   "display_name": "Python 3",
   "language": "python",
   "name": "python3"
  },
  "language_info": {
   "codemirror_mode": {
    "name": "ipython",
    "version": 3
   },
   "file_extension": ".py",
   "mimetype": "text/x-python",
   "name": "python",
   "nbconvert_exporter": "python",
   "pygments_lexer": "ipython3",
   "version": "3.6.5"
  }
 },
 "nbformat": 4,
 "nbformat_minor": 2
}
