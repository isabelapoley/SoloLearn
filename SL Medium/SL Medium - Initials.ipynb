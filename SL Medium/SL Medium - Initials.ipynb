{
 "cells": [
  {
   "cell_type": "markdown",
   "metadata": {},
   "source": [
    "You are given a list of names for a fundraiser, but you need to keep the names relatively anonymous. You are tasked with getting the initials for each name provided.\n",
    "\n",
    "Task: \n",
    "Given a list of first and last names, take the first letter from each name to create initials and output them as a space-separated string.\n",
    "\n",
    "Input Format: \n",
    "The first input denotes the number of names in the list (N). The next N lines contain the list elements as strings. \n",
    "\n",
    "Output Format: \n",
    "A string containing the initials of each name in the original list, separated by spaces.\n",
    "\n",
    "Sample Input: \n",
    "3 \n",
    "Nick Dunburry\n",
    "Tommy Newborne\n",
    "David James\n",
    "\n",
    "Sample Output: \n",
    "ND TN DJ\n",
    "\n",
    "Explanation:\n",
    "Taking the first letter from each name results in the output ND TN DJ."
   ]
  },
  {
   "cell_type": "code",
   "execution_count": 1,
   "metadata": {},
   "outputs": [
    {
     "name": "stdout",
     "output_type": "stream",
     "text": [
      "3\n",
      "Nick Dunburry\n",
      "Tommy Newborne\n",
      "David James\n",
      "ND TN DJ\n"
     ]
    }
   ],
   "source": [
    "lines = int(input())\n",
    "initials_list = []\n",
    "joiner_1 = ''\n",
    "joiner_2 = ' '\n",
    "for i in range(lines):\n",
    "    name = input().split()\n",
    "    initials = []\n",
    "    for word in name:\n",
    "        initials.append(word[0])\n",
    "    fundraiser = joiner_1.join(initials)\n",
    "    initials_list.append(fundraiser)\n",
    "print(joiner_2.join(initials_list))"
   ]
  }
 ],
 "metadata": {
  "kernelspec": {
   "display_name": "Python 3",
   "language": "python",
   "name": "python3"
  },
  "language_info": {
   "codemirror_mode": {
    "name": "ipython",
    "version": 3
   },
   "file_extension": ".py",
   "mimetype": "text/x-python",
   "name": "python",
   "nbconvert_exporter": "python",
   "pygments_lexer": "ipython3",
   "version": "3.6.5"
  }
 },
 "nbformat": 4,
 "nbformat_minor": 2
}
