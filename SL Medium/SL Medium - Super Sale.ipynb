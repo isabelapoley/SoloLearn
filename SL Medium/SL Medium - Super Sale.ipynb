{
 "cells": [
  {
   "cell_type": "markdown",
   "metadata": {},
   "source": [
    "Your favorite store is having a sale! You pay full price for the most expensive item that you get, but then you get 30% off of everything else in your purchase! How much are you going to save? \n",
    "Sales tax is 7%. \n",
    "Also, you leave anything below a dollar in your saving as a tip to the seller. If your saving is a round amount, you don't leave any tips.\n",
    "\n",
    "Task: \n",
    "Given the prices of items you want to purchase, determine how much you will save during your shopping! \n",
    "\n",
    "Input Format: \n",
    "An string of numbers separated by commas that represent the prices for all of the items that you want to purchase (without tax).\n",
    "\n",
    "Output Format: \n",
    "An integer number that represents the total savings that you got for shopping during the sale.\n",
    "\n",
    "Sample Input: \n",
    "100.25,80.99,40.00\n",
    "\n",
    "Sample Output: \n",
    "38\n",
    "\n",
    "Explanation: \n",
    "With the sale, you would get 30% off of the second two items. The amount you save is $36.297, and $38.83779 when you consider the 7% tax. After leaving the 0.83779 as a tip, your final saving is $38."
   ]
  },
  {
   "cell_type": "code",
   "execution_count": 1,
   "metadata": {},
   "outputs": [
    {
     "name": "stdout",
     "output_type": "stream",
     "text": [
      "100.25,80.99,40.00\n",
      "38\n"
     ]
    }
   ],
   "source": [
    "import math\n",
    "entries = input().split(',')\n",
    "prices = [float(entry) for entry in entries]\n",
    "savings = []\n",
    "for n in prices:\n",
    "    if n != max(prices):\n",
    "        n = n*(0.3 + 0.3*0.07)\n",
    "        savings.append(n)\n",
    "print(math.floor(sum(savings)))"
   ]
  }
 ],
 "metadata": {
  "kernelspec": {
   "display_name": "Python 3",
   "language": "python",
   "name": "python3"
  },
  "language_info": {
   "codemirror_mode": {
    "name": "ipython",
    "version": 3
   },
   "file_extension": ".py",
   "mimetype": "text/x-python",
   "name": "python",
   "nbconvert_exporter": "python",
   "pygments_lexer": "ipython3",
   "version": "3.6.5"
  }
 },
 "nbformat": 4,
 "nbformat_minor": 2
}
