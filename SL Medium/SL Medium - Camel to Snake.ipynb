{
 "cells": [
  {
   "cell_type": "markdown",
   "metadata": {},
   "source": [
    "The company you are working for is refactoring its entire codebase. It's changing all naming conventions from camel to snake case (camelCasing to snake_casing). \n",
    "Every capital letter is replaced with its lowercase prefixed by an underscore _, except for the first letter, which is lowercased without the underscore, so that SomeName becomes some_name.\n",
    "\n",
    "Task: \n",
    "Write a program that takes in a string that has camel casing, and outputs the same string but with snake casing.\n",
    "\n",
    "Input Format: \n",
    "A string with camelCasing.\n",
    "\n",
    "Output Format: \n",
    "The same string but with snake_casing.\n",
    "\n",
    "Sample Input: \n",
    "camelCasing\n",
    "\n",
    "Sample Output:\n",
    "camel_casing\n",
    "\n",
    "Explanation:\n",
    "The capital C was lowercased and prefixed by an underscore."
   ]
  },
  {
   "cell_type": "code",
   "execution_count": 1,
   "metadata": {},
   "outputs": [
    {
     "name": "stdout",
     "output_type": "stream",
     "text": [
      "jupyNote\n",
      "jupy_note\n"
     ]
    }
   ],
   "source": [
    "string = input()\n",
    "list = []\n",
    "joiner = ''\n",
    "for i in string:\n",
    "    if i.isupper():\n",
    "        list.append('_')\n",
    "        list.append(i.lower())\n",
    "    else:\n",
    "        list.append(i)\n",
    "if list[0] == '_':\n",
    "    del(list[0])\n",
    "print(joiner.join(list))"
   ]
  }
 ],
 "metadata": {
  "kernelspec": {
   "display_name": "Python 3",
   "language": "python",
   "name": "python3"
  },
  "language_info": {
   "codemirror_mode": {
    "name": "ipython",
    "version": 3
   },
   "file_extension": ".py",
   "mimetype": "text/x-python",
   "name": "python",
   "nbconvert_exporter": "python",
   "pygments_lexer": "ipython3",
   "version": "3.6.5"
  }
 },
 "nbformat": 4,
 "nbformat_minor": 2
}
