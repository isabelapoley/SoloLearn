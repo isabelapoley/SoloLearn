{
 "cells": [
  {
   "cell_type": "markdown",
   "metadata": {},
   "source": [
    "You are shopping at a store that is having a special where you do not have to pay the tax on anything that costs 20 dollars or more! \n",
    "If you have a list of prices for all of your items, what is your total once the tax is added in? Tax is 7% on the items that you would still need to pay tax on.\n",
    "\n",
    "Task: \n",
    "Determine the total cost once you include tax of 7% on the items that are still taxed.\n",
    "\n",
    "Input Format: \n",
    "A string of numbers, separated by commas, that represent to price of each item that you are going to buy.\n",
    "\n",
    "Output Format: \n",
    "A number, rounded to two decimal places, of the total for your purchase once tax is included on items under 20 dollars.\n",
    "\n",
    "Sample Input: \n",
    "5,18,25,34\n",
    "\n",
    "Sample Output: \n",
    "83.61\n",
    "\n",
    "Explanation: \n",
    "You would only have to pay the tax on the 5 and 18 dollar items and that bring your total to $83.61."
   ]
  },
  {
   "cell_type": "code",
   "execution_count": 1,
   "metadata": {},
   "outputs": [
    {
     "name": "stdout",
     "output_type": "stream",
     "text": [
      "5,18,25,34\n",
      "83.61\n"
     ]
    }
   ],
   "source": [
    "items = input().split(',')\n",
    "prices = []\n",
    "for i in items:\n",
    "    item = int(i)\n",
    "    if item >= 20:\n",
    "       prices.append(item) \n",
    "    else:\n",
    "       new_price = item*1.07\n",
    "       prices.append(new_price)\n",
    "total = sum(prices)\n",
    "print(round(total,2))"
   ]
  }
 ],
 "metadata": {
  "kernelspec": {
   "display_name": "Python 3",
   "language": "python",
   "name": "python3"
  },
  "language_info": {
   "codemirror_mode": {
    "name": "ipython",
    "version": 3
   },
   "file_extension": ".py",
   "mimetype": "text/x-python",
   "name": "python",
   "nbconvert_exporter": "python",
   "pygments_lexer": "ipython3",
   "version": "3.6.5"
  }
 },
 "nbformat": 4,
 "nbformat_minor": 2
}
