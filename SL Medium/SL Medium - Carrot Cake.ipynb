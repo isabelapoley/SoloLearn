{
 "cells": [
  {
   "cell_type": "markdown",
   "metadata": {},
   "source": [
    "You are packing boxes of carrots for a farm co-op, and you are supposed to evenly distribute all of the carrots that you have into the boxes.\n",
    "The total number of carrots in each box doesn't matter as long as you distribute them evenly, and there are not enough leftover to put another carrot in each box. Anything that you have left over, you get to keep. \n",
    "You need 7 carrots to make the cake the way that you want to.\n",
    "\n",
    "Task: \n",
    "Determine if you will have enough leftover carrots to make your cake.  \n",
    "\n",
    "Input Format: \n",
    "Two integer values. The first represents the number of carrots that you start with, and the second is the number of boxes that need to be packed into.\n",
    "\n",
    "Output Format: \n",
    "A string that says 'Cake Time' if you have enough, or that says 'I need to buy X more' where X is the extra amount you need for your cake.\n",
    "\n",
    "Sample Input: \n",
    "100\n",
    "10\n",
    "\n",
    "Sample Output: \n",
    "I need to buy 7 more\n",
    "\n",
    "Explanation: \n",
    "You will have zero leftover carrots after you neatly pack 100 carrots evenly into 10 boxes. You need to buy all of the carrots (7) for your cake."
   ]
  },
  {
   "cell_type": "code",
   "execution_count": 1,
   "metadata": {},
   "outputs": [
    {
     "name": "stdout",
     "output_type": "stream",
     "text": [
      "100\n",
      "10\n",
      "I need to buy 7 more\n"
     ]
    }
   ],
   "source": [
    "carrots = int(input())\n",
    "boxes = int(input())\n",
    "if carrots % boxes < 7:\n",
    "    tobuy = 7 - (carrots % boxes)\n",
    "    print(('I need to buy {} more').format(tobuy))\n",
    "elif carrots % boxes >= 7:\n",
    "    print('Cake Time')"
   ]
  }
 ],
 "metadata": {
  "kernelspec": {
   "display_name": "Python 3",
   "language": "python",
   "name": "python3"
  },
  "language_info": {
   "codemirror_mode": {
    "name": "ipython",
    "version": 3
   },
   "file_extension": ".py",
   "mimetype": "text/x-python",
   "name": "python",
   "nbconvert_exporter": "python",
   "pygments_lexer": "ipython3",
   "version": "3.6.5"
  }
 },
 "nbformat": 4,
 "nbformat_minor": 2
}
