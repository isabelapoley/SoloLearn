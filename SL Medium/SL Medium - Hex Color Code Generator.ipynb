{
 "cells": [
  {
   "cell_type": "markdown",
   "metadata": {},
   "source": [
    "You are starting a new company and unfortunately that means you can no longer rely on the free hex-color code software you used to rely on. It’s time to put your skills to the test and create one from the ground up!\n",
    "\n",
    "Task: \n",
    "Create a function that accepts three integers that represent the RGB (red, green, blue) values and outputs the hex-code representation.\n",
    "\n",
    "Input Format: \n",
    "Three integers that represent RGB values.\n",
    "\n",
    "Output Format: \n",
    "The hexadecimal color code string that corresponds with the entered RGB values.\n",
    "\n",
    "Sample Input: \n",
    "100 \n",
    "200 \n",
    "233\n",
    "\n",
    "Sample Output: \n",
    "#64c8e9\n",
    "\n",
    "Explanation: \n",
    "Hex color codes work within 15 characters, 0-9 and a-f. RGB goes into hex color codes as such # (red) 00 (green) 00 (blue) 00. Hex color codes work by rolling over the value of 09 to 0a. Once 0f is hit (15) the following value (16) would be represented as 10 instead of (16). This means the RGB values (16, 32, 161) would evaluate to #1020a1 (10, 20, a1)."
   ]
  },
  {
   "cell_type": "code",
   "execution_count": 1,
   "metadata": {},
   "outputs": [
    {
     "name": "stdout",
     "output_type": "stream",
     "text": [
      "100\n",
      "200\n",
      "233\n",
      "#64c8e9\n"
     ]
    }
   ],
   "source": [
    "red = int(input())\n",
    "green = int(input())\n",
    "blue = int(input())\n",
    "hex_red = hex(red)\n",
    "hex_green = hex(green)\n",
    "hex_blue = hex(blue)\n",
    "str_red = str(hex_red)\n",
    "str_green = str(hex_green)\n",
    "str_blue = str(hex_blue)\n",
    "print('#{}{}{}'.format(str_red[2:4],str_green[2:4],str_blue [2:4]))"
   ]
  }
 ],
 "metadata": {
  "kernelspec": {
   "display_name": "Python 3",
   "language": "python",
   "name": "python3"
  },
  "language_info": {
   "codemirror_mode": {
    "name": "ipython",
    "version": 3
   },
   "file_extension": ".py",
   "mimetype": "text/x-python",
   "name": "python",
   "nbconvert_exporter": "python",
   "pygments_lexer": "ipython3",
   "version": "3.6.5"
  }
 },
 "nbformat": 4,
 "nbformat_minor": 2
}
