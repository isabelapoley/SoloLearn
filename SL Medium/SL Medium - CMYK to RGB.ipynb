{
 "cells": [
  {
   "cell_type": "markdown",
   "metadata": {},
   "source": [
    "The CMYK color model is the standard in the printing industry and refers to the primary colors of pigment: Cyan, Magenta, Yellow, and Black. \n",
    "K stands for 'Key' since in 4-color printing the Cyan, Magenta and Yellow printing plates are carefully keyed or aligned with the key of the Black key plate.\n",
    "RGB (Red, Green and Blue) is the color space for digital images.\n",
    "\n",
    "The combination of RGB light creates white, while the combination of CMYK inks creates black.\n",
    "\n",
    "A CMYK color can be converted to RGB using the following equations:\n",
    "R = 255 × (1-C) × (1-K)\n",
    "G = 255 × (1-M) × (1-K)\n",
    "B = 255 × (1-Y) × (1-K)\n",
    "\n",
    "Remember, each component of a RGB color is in the range of [0, 255], so the resulting decimal numbers should be rounded to the nearest integers.\n",
    "\n",
    "Task: \n",
    "Given a color in CMYK format, output the corresponding RGB color. \n",
    "\n",
    "Input Format:\n",
    "4 decimal numbers in the range of [0, 1], representing Cyan, Magenta, Yellow and Black. \n",
    "\n",
    "Output Format:\n",
    "A string, representing the corresponding RGB color, each component separated by commas.\n",
    "\n",
    "Sample Input:\n",
    "0.4\n",
    "0.49\n",
    "0.552\n",
    "0.36\n",
    "\n",
    "Sample Output: \n",
    "98,83,73\n",
    "\n",
    "Explanation: \n",
    "cmyk(0.4, 0.49, 0.552, 0.36) corresponds to rgb(98, 83, 73)."
   ]
  },
  {
   "cell_type": "code",
   "execution_count": 1,
   "metadata": {},
   "outputs": [
    {
     "name": "stdout",
     "output_type": "stream",
     "text": [
      "0.4\n",
      "0.49\n",
      "0.552\n",
      "0.36\n",
      "98,83,73\n"
     ]
    }
   ],
   "source": [
    "cyan = float(input())\n",
    "magenta = float(input())\n",
    "yellow = float(input())\n",
    "black = float(input())\n",
    "r = round(255*(1-cyan)*(1-black))\n",
    "g = round(255*(1-magenta)*(1-black))\n",
    "b = round(255*(1-yellow)*(1-black))\n",
    "print(('{},{},{}').format(r,g,b))"
   ]
  }
 ],
 "metadata": {
  "kernelspec": {
   "display_name": "Python 3",
   "language": "python",
   "name": "python3"
  },
  "language_info": {
   "codemirror_mode": {
    "name": "ipython",
    "version": 3
   },
   "file_extension": ".py",
   "mimetype": "text/x-python",
   "name": "python",
   "nbconvert_exporter": "python",
   "pygments_lexer": "ipython3",
   "version": "3.6.5"
  }
 },
 "nbformat": 4,
 "nbformat_minor": 2
}
