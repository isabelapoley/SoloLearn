{
 "cells": [
  {
   "cell_type": "markdown",
   "metadata": {},
   "source": [
    "You are grouped into groups for a project, and you are supposed to come up with as many famous scientists who have the same first letter of their name as you as possible. \n",
    "Will you have to come up with the answers on your own, or is there somebody in your group that you can work with?\n",
    "\n",
    "Task: \n",
    "Determine if anyone in your group has the same first letter of their name as you.\n",
    "\n",
    "Input Format: \n",
    "A string of your group members' names separated by spaces, and then a string of your name.\n",
    "\n",
    "Output Format: \n",
    "A string that says 'Compare notes' if you have a name buddy, or 'No such luck' if you have to work on this alone.\n",
    "\n",
    "Sample Input: \n",
    "Becky Joan Fred Trey\n",
    "Brad\n",
    "\n",
    "Sample Output: \n",
    "Compare notes\n",
    "\n",
    "Explanation: \n",
    "Congratulations! You have a name buddy since Brad and Becky both start with a 'B'. You can work together."
   ]
  },
  {
   "cell_type": "code",
   "execution_count": null,
   "metadata": {},
   "outputs": [],
   "source": [
    "buddies = input().split()\n",
    "my_name = input() \n",
    "for buddy in buddies:\n",
    "    if buddy[0] == my_name[0]:\n",
    "        print('Compare notes')\n",
    "        end\n",
    "    else:\n",
    "        continue\n",
    "print('No such luck')"
   ]
  }
 ],
 "metadata": {
  "kernelspec": {
   "display_name": "Python 3",
   "language": "python",
   "name": "python3"
  },
  "language_info": {
   "codemirror_mode": {
    "name": "ipython",
    "version": 3
   },
   "file_extension": ".py",
   "mimetype": "text/x-python",
   "name": "python",
   "nbconvert_exporter": "python",
   "pygments_lexer": "ipython3",
   "version": "3.6.5"
  }
 },
 "nbformat": 4,
 "nbformat_minor": 2
}
