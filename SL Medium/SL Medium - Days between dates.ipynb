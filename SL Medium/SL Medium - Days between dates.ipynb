{
 "cells": [
  {
   "cell_type": "markdown",
   "metadata": {},
   "source": [
    "You need to calculate exactly how many days have passed between two dates.\n",
    "\n",
    "Task:  \n",
    "Calculate how many days have passed between two input dates, and output the result. \n",
    "\n",
    "Input Format: \n",
    "Two strings that represent the dates, first date should be the older date. \n",
    "Date format: Month DD, YYYY\n",
    "\n",
    "Output Format: \n",
    "A number representing the number of days between the two dates.\n",
    "\n",
    "Sample Input: \n",
    "August 15, 1979\n",
    "June 15, 2018\n",
    "\n",
    "Sample Output: \n",
    "14184\n",
    "\n",
    "Explanation: \n",
    "14184 days have passed between the two input days."
   ]
  },
  {
   "cell_type": "code",
   "execution_count": 1,
   "metadata": {},
   "outputs": [
    {
     "name": "stdout",
     "output_type": "stream",
     "text": [
      "August 15, 1979\n",
      "June 15, 2018\n",
      "14184\n"
     ]
    }
   ],
   "source": [
    "import calendar\n",
    "from datetime import datetime\n",
    "\n",
    "date_1 = input()\n",
    "date_2 = input()\n",
    "list_1 = [date_1,date_2]\n",
    "list_2 = []\n",
    "\n",
    "for date in list_1:\n",
    "    month_day, year = (val for val in date.split(','))\n",
    "    year = int(year)\n",
    "    if month_day[0:7] == 'January':\n",
    "        month_number = 1\n",
    "        day_number = int(month_day[8:10])\n",
    "    if month_day[0:8] == 'February':\n",
    "        month_number = 2\n",
    "        day_number = int(month_day[9:11])\n",
    "    if month_day[0:5] == 'March':\n",
    "        month_number = 3\n",
    "        day_number = int(month_day[6:8])\n",
    "    if month_day[0:5] == 'April':\n",
    "        month_number = 4\n",
    "        day_number = int(month_day[6:8])\n",
    "    if month_day[0:3] == 'May':\n",
    "        month_number = 5\n",
    "        day_number = int(month_day[4:6])\n",
    "    if month_day[0:4] == 'June':\n",
    "        month_number = 6\n",
    "        day_number = int(month_day[5:7])\n",
    "    if month_day[0:4] == 'July':\n",
    "        month_number = 7\n",
    "        day_number = int(month_day[5:7])\n",
    "    if month_day[0:6] == 'August':\n",
    "        month_number = 8\n",
    "        day_number = int(month_day[7:9])\n",
    "    if month_day[0:9] == 'September':\n",
    "        month_number = 9\n",
    "        day_number = int(month_day[10:12])\n",
    "    if month_day[0:7] == 'October':\n",
    "        month_number = 10\n",
    "        day_number = int(month_day[8:10])\n",
    "    if month_day[0:8] == 'November':\n",
    "        month_number = 11\n",
    "        day_number = int(month_day[9:11])\n",
    "    if month_day[0:8] == 'December':\n",
    "        month_number = 12\n",
    "        day_number = int(month_day[9:11])\n",
    "    str_date = ('{}-{}-{}').format(year,month_number,day_number)\n",
    "    date = datetime.strptime(str_date, '%Y-%m-%d').date()\n",
    "    list_2.append(date)\n",
    "    \n",
    "print(abs(list_2[1] - list_2[0]).days)"
   ]
  }
 ],
 "metadata": {
  "kernelspec": {
   "display_name": "Python 3",
   "language": "python",
   "name": "python3"
  },
  "language_info": {
   "codemirror_mode": {
    "name": "ipython",
    "version": 3
   },
   "file_extension": ".py",
   "mimetype": "text/x-python",
   "name": "python",
   "nbconvert_exporter": "python",
   "pygments_lexer": "ipython3",
   "version": "3.6.5"
  }
 },
 "nbformat": 4,
 "nbformat_minor": 2
}
