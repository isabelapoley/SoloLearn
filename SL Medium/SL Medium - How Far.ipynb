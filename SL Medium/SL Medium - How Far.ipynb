{
 "cells": [
  {
   "cell_type": "markdown",
   "metadata": {},
   "source": [
    "You are walking from your house to a pond that is down your street. \n",
    "How many blocks over will you have to walk until you get to the pond?\n",
    "\n",
    "Task: \n",
    "Evaluate how many blocks you will have to walk if you are given a representation of your street where H represents your house, P represents the pond, and every B represents a block in between the two.\n",
    "\n",
    "Input Format: \n",
    "A string of letters representing your house, the pond, and blocks on your street.\n",
    "\n",
    "Output Format: \n",
    "An integer value that represents the number of blocks between your house and the pond.\n",
    "\n",
    "Sample Input: \n",
    "BBHBBBBPBBB\n",
    "\n",
    "Sample Output: \n",
    "4\n",
    "\n",
    "Explanation: \n",
    "There are 4 blocks between your house and the pond on your street."
   ]
  },
  {
   "cell_type": "code",
   "execution_count": 1,
   "metadata": {},
   "outputs": [
    {
     "name": "stdout",
     "output_type": "stream",
     "text": [
      "BBHBBBBPBBB\n",
      "4\n"
     ]
    }
   ],
   "source": [
    "street = input()\n",
    "l = len(street)\n",
    "count_1 = 0\n",
    "count_2 = 0\n",
    "for i in range(l):\n",
    "    if street[i] == 'H' or street[i] == 'P':\n",
    "        count_1 += 1\n",
    "    else:\n",
    "        if count_1 == 0:\n",
    "            continue\n",
    "        elif count_1 == 1:\n",
    "            count_2 += 1\n",
    "        else:\n",
    "            continue\n",
    "print(count_2)"
   ]
  }
 ],
 "metadata": {
  "kernelspec": {
   "display_name": "Python 3",
   "language": "python",
   "name": "python3"
  },
  "language_info": {
   "codemirror_mode": {
    "name": "ipython",
    "version": 3
   },
   "file_extension": ".py",
   "mimetype": "text/x-python",
   "name": "python",
   "nbconvert_exporter": "python",
   "pygments_lexer": "ipython3",
   "version": "3.6.5"
  }
 },
 "nbformat": 4,
 "nbformat_minor": 2
}
