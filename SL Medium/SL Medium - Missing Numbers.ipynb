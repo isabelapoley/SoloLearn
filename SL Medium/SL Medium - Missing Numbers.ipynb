{
 "cells": [
  {
   "cell_type": "markdown",
   "metadata": {},
   "source": [
    "You are given a list of whole numbers in ascending order. You need to find which numbers are missing in the sequence.\n",
    "\n",
    "Task: \n",
    "Create a program that takes in a list of numbers and outputs the missing numbers in the sequence separated by spaces.\n",
    "\n",
    "Input Format: \n",
    "The first input denotes the length of the list (N). The next N lines contain the list elements as integers. \n",
    "\n",
    "Output Format: \n",
    "A string containing a space-separated list of the missing numbers.\n",
    "\n",
    "Sample Input: \n",
    "5\n",
    "2\n",
    "4\n",
    "5\n",
    "7\n",
    "8\n",
    "\n",
    "Sample Output: \n",
    "3 6\n",
    "\n",
    "Explanation: \n",
    "The input list is missing the numbers 3 and 6."
   ]
  },
  {
   "cell_type": "code",
   "execution_count": 1,
   "metadata": {},
   "outputs": [
    {
     "name": "stdout",
     "output_type": "stream",
     "text": [
      "5\n",
      "2\n",
      "4\n",
      "5\n",
      "7\n",
      "8\n",
      "3 6\n"
     ]
    }
   ],
   "source": [
    "length = int(input())\n",
    "numbers_list = []\n",
    "missing = []\n",
    "s = ' '\n",
    "for i in range(length):\n",
    "    number = int(input())\n",
    "    numbers_list.append(number)\n",
    "new_list = sorted(numbers_list, reverse = True)\n",
    "maximum = max(new_list)\n",
    "minimum = min(new_list)\n",
    "for j in range(maximum,minimum,-1):\n",
    "    if j in new_list:\n",
    "        continue\n",
    "    else:\n",
    "        missing.append(j)\n",
    "answer = [str(digits) for digits in (sorted(missing))]\n",
    "print(s.join(answer))"
   ]
  }
 ],
 "metadata": {
  "kernelspec": {
   "display_name": "Python 3",
   "language": "python",
   "name": "python3"
  },
  "language_info": {
   "codemirror_mode": {
    "name": "ipython",
    "version": 3
   },
   "file_extension": ".py",
   "mimetype": "text/x-python",
   "name": "python",
   "nbconvert_exporter": "python",
   "pygments_lexer": "ipython3",
   "version": "3.6.5"
  }
 },
 "nbformat": 4,
 "nbformat_minor": 2
}
