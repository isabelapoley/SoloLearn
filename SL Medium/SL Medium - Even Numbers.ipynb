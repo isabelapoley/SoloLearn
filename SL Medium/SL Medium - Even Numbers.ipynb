{
 "cells": [
  {
   "cell_type": "markdown",
   "metadata": {},
   "source": [
    "Given a list of numbers, you want to take out all of the odd ones and leave just the even ones.\n",
    "\n",
    "Task: \n",
    "Evaluate each number in your list to see if it is even or odd. Then, output a new list that only contains the even numbers from your original list.\n",
    "\n",
    "Input Format: \n",
    "A string that includes all of the integer values in your list separated by spaces.\n",
    "\n",
    "Output Format: \n",
    "A string that includes all of the even integer values from your first list separated by spaces.\n",
    "\n",
    "Sample Input: \n",
    "8 10 19 25 5 16 12\n",
    "\n",
    "Sample Output: \n",
    "8 10 16 12\n",
    "\n",
    "Explanation: \n",
    "Your new list would only contain the even numbers (8, 10, 16, and 12) and would not include the odd ones (19, 25, and 5). Note, that both, input and output, are strings."
   ]
  },
  {
   "cell_type": "code",
   "execution_count": 1,
   "metadata": {},
   "outputs": [
    {
     "name": "stdout",
     "output_type": "stream",
     "text": [
      "8 10 19 25 5 16 12\n",
      "8 10 16 12\n"
     ]
    }
   ],
   "source": [
    "list_of_entries = input().split()\n",
    "numbers = [int(entry) for entry in list_of_entries]\n",
    "evens = []\n",
    "answer = ' '\n",
    "for n in numbers:\n",
    "    if n % 2 == 0:\n",
    "        evens.append(n)\n",
    "strings = [str(value) for value in evens]\n",
    "answer = answer.join(strings)\n",
    "print(answer)"
   ]
  }
 ],
 "metadata": {
  "kernelspec": {
   "display_name": "Python 3",
   "language": "python",
   "name": "python3"
  },
  "language_info": {
   "codemirror_mode": {
    "name": "ipython",
    "version": 3
   },
   "file_extension": ".py",
   "mimetype": "text/x-python",
   "name": "python",
   "nbconvert_exporter": "python",
   "pygments_lexer": "ipython3",
   "version": "3.6.5"
  }
 },
 "nbformat": 4,
 "nbformat_minor": 2
}
