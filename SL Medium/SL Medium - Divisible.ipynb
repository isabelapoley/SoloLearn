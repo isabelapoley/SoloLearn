{
 "cells": [
  {
   "cell_type": "markdown",
   "metadata": {},
   "source": [
    "You need to know if a number is divisible by each of a group of other numbers. If you are given the number and the group of other numbers, you will test to make sure that it is divisible by all of them.  \n",
    "\n",
    "Task: \n",
    "Test your number against all of the other numbers that you are given to make sure that it is divisible by them.\n",
    "\n",
    "Input Format: \n",
    "Two inputs: an integer value (the number you are testing) and a string of variable length of the integers that you should test against separated by spaces.\n",
    "\n",
    "Output Format: \n",
    "A string that says 'divisible by all' or 'not divisible by all'.\n",
    "\n",
    "Sample Input: \n",
    "100\n",
    "2 5 10\n",
    "\n",
    "Sample Output: \n",
    "divisible by all\n",
    "\n",
    "Explanation: \n",
    "100 is divisible by 2, 5, and 10."
   ]
  },
  {
   "cell_type": "code",
   "execution_count": 1,
   "metadata": {},
   "outputs": [
    {
     "name": "stdout",
     "output_type": "stream",
     "text": [
      "100\n",
      "2 5 10\n",
      "divisible by all\n"
     ]
    }
   ],
   "source": [
    "number = int(input())\n",
    "test = input().split()\n",
    "divisors = [int(n) for n in test]\n",
    "for value in divisors:\n",
    "    if number % value != 0:\n",
    "        print('not divisible by all')\n",
    "        end\n",
    "    else:\n",
    "        continue \n",
    "print('divisible by all')"
   ]
  }
 ],
 "metadata": {
  "kernelspec": {
   "display_name": "Python 3",
   "language": "python",
   "name": "python3"
  },
  "language_info": {
   "codemirror_mode": {
    "name": "ipython",
    "version": 3
   },
   "file_extension": ".py",
   "mimetype": "text/x-python",
   "name": "python",
   "nbconvert_exporter": "python",
   "pygments_lexer": "ipython3",
   "version": "3.6.5"
  }
 },
 "nbformat": 4,
 "nbformat_minor": 2
}
